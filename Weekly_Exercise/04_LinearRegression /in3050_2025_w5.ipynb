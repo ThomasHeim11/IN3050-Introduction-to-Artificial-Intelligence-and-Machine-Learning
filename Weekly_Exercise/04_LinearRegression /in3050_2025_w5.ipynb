{
 "cells": [
  {
   "cell_type": "markdown",
   "metadata": {},
   "source": [
    "# IN3050/IN4050 2025: Week 05, Perceptron\n",
    "### Introduction\n",
    "The goal of this week's exercise set is to get familiar with the perceptron classifier.\n",
    "The set has two parts.\n",
    "The first part does not involve programming or Python.\n",
    "The questions in this part are the type of questions you will meet at the exam.\n",
    "They can (and should) be solved by pen and paper or a word processor and, eventually, a calculator.\n",
    "\n",
    "The second part involves implementations in Python."
   ]
  },
  {
   "cell_type": "markdown",
   "metadata": {},
   "source": [
    "## Part 1: Exam type exercises"
   ]
  },
  {
   "cell_type": "markdown",
   "metadata": {},
   "source": [
    "### Exercise I\n",
    "You want to predict if movies will be profitable based on their screenplays. You hire two critics A and B to read a script you have and rate it on a scale of 1 to 6. The critics are not perfect; here are five data points including the critics' scores and the performance of the movie:\n",
    "```\n",
    "| Movie # | Alice    | Bob       | Profitable? |\n",
    "|  _______|__________|___________|_____________|\n",
    "|  1      | 1        | 1         |      no     |\n",
    "|  _______|__________|___________|_____________|\n",
    "|  2      | 4        | 3         |      yes    |\n",
    "|  _______|__________|___________|_____________|\n",
    "|  3      | 3        | 5         |      yes    |\n",
    "|  _______|__________|___________|_____________|\n",
    "|  4      | 5        | 6         |      yes    |\n",
    "|  _______|__________|___________|_____________|\n",
    "|  5      | 2        | 3         |      no     |\n",
    "|  _______|__________|___________|_____________|\n",
    "```\n",
    "Is the data linearly separable? Plot the data on a sheet of paper; label profitable movies with + and non-profitable movies with x and determine if the data are linearily separable.\n",
    "\n",
    "\n",
    "**Answer:** The profitable movies tend to be in the upper-right region and the non proftibale movies tend to be in the lower-left region. So yes, we can draw a straight line that separated these two groups, "
   ]
  },
  {
   "cell_type": "code",
   "execution_count": 1,
   "metadata": {},
   "outputs": [
    {
     "data": {
      "text/plain": [
       "<matplotlib.legend.Legend at 0x11626eca0>"
      ]
     },
     "execution_count": 1,
     "metadata": {},
     "output_type": "execute_result"
    },
    {
     "data": {
      "image/png": "[encoded data removed]",
      "text/plain": [
       "<Figure size 640x480 with 1 Axes>"
      ]
     },
     "metadata": {},
     "output_type": "display_data"
    }
   ],
   "source": [
    "import numpy as np\n",
    "import matplotlib.pyplot as plt\n",
    "\n",
    "X = [(1,1), (4,3), (3,5), (5,6), (2,3)]\n",
    "t = [0, 1, 1, 1, 0]\n",
    "cl = {0:[], 1:[]}\n",
    "for (a, b) in zip(X, t):\n",
    "    cl[b].append(a)\n",
    "plt.plot([a[0] for a in cl[1]], [a[1] for a in cl[1]], '+', label=\"class 1\")\n",
    "plt.plot([a[0] for a in cl[0]], [a[1] for a in cl[0]], 'x', label=\"class 0\")\n",
    "plt.plot([2.5, 2.5], [1,6], '--', label=\"A linear boundary\")\n",
    "plt.legend()\n"
   ]
  },
  {
   "cell_type": "markdown",
   "metadata": {},
   "source": [
    "### Exercise II\n",
    "\n",
    "You decide to use a perceptron to classify your data. \n",
    "Suppose you directly use the scores given above as features,\n",
    "$x_1=$ score given by A and $x_2=$ score given by B.\n",
    "You also add a bias term in position 0, $x_0=-1$.\n",
    "\n",
    "Run one pass through the data with the perceptron algorithm, filling out the table below. \n",
    "Go through the data points in order, e.g., using data from movie 1 at step 1. \n",
    "Suppose we start with the weights $(w_0, w_1, w_2)=(1,0,0)$. \n",
    "Use $1$ as learning rate.\n",
    "\n",
    "For each of the 5 steps, write the \n",
    "the score, and whether the prediction is correct.\n",
    "Calculate the new weights, enter them at the next line and repeat.\n",
    "\n",
    "```\n",
    "| Step | Weights    | Score                     | Correct prediction? |\n",
    "_______|____________|___________________________|______________________|\n",
    "|  1   | (1, 0, 0)  | 1*(-1) + 0*1 + 0 * 1 = -1 |      yes             |\n",
    "_______|____________|___________________________|______________________|\n",
    "|  2   |(1, 0, 0)   | 1*(-1) + 0*4 + 0 * 3 = -1 |           no         |\n",
    "_______|____________|___________________________|______________________|\n",
    "|  3   | (2,4,3)    |2*(-1) + 4*3 + 3*5 = 25    |         yes          |\n",
    "_______|____________|___________________________|______________________|\n",
    "|  4   |(2,4,3)     |2*(-1)+ 4*5 + 3*6 = 35     |       yes            |\n",
    "_______|____________|___________________________|______________________|\n",
    "|  5   |(2,4,4)     | 2*(-1)+4*2+3*3=13         |      no              |\n",
    "_______|____________|___________________________|______________________|\n",
    "|      |            |\n",
    "|______|____________|\n",
    "\n",
    "```"
   ]
  },
  {
   "cell_type": "markdown",
   "metadata": {},
   "source": [
    "### Exercise III\n",
    "Have weights been learned that separate the data? \n",
    "Plot the data together with the decision boundary given by the weigths which you are left with after you have run all the data points the first round in the previous question."
   ]
  },
  {
   "cell_type": "markdown",
   "metadata": {},
   "source": [
    "No, this is obvious if you consider the plot. \n",
    "\n",
    "The formula for the the decison boundary is $w_0x_0 + w_1x_1 + w_2x_2 = 0$.\n",
    "Inserting the weights $(w_0, w_1, w_2)=(1,2,0)$ and $x_0=-1$ yields $1*(-1)+2x_1 + 0x_2 = 0$, which can be written\n",
    "$x_1=\\frac{1}{2}$.\n"
   ]
  },
  {
   "cell_type": "code",
   "execution_count": 2,
   "metadata": {},
   "outputs": [
    {
     "data": {
      "text/plain": [
       "<matplotlib.legend.Legend at 0x11633db80>"
      ]
     },
     "execution_count": 2,
     "metadata": {},
     "output_type": "execute_result"
    },
    {
     "data": {
      "image/png": "[encoded data removed]",
      "text/plain": [
       "<Figure size 640x480 with 1 Axes>"
      ]
     },
     "metadata": {},
     "output_type": "display_data"
    }
   ],
   "source": [
    "X = [(1,1), (4,3), (3,5), (5,6), (2,3)]\n",
    "t = [0, 1, 1, 1, 0]\n",
    "cl = {0:[], 1:[]}\n",
    "for (a, b) in zip(X, t):\n",
    "    cl[b].append(a)\n",
    "plt.plot([a[0] for a in cl[1]], [a[1] for a in cl[1]], '+', label=\"class 1\")\n",
    "plt.plot([a[0] for a in cl[0]], [a[1] for a in cl[0]], 'x', label=\"class 0\")\n",
    "plt.plot([0.5, 0.5], [1, 6], '--', label=\"current dec.bound.\")\n",
    "plt.legend()"
   ]
  },
  {
   "cell_type": "markdown",
   "metadata": {},
   "source": [
    "### Exercise IV\n",
    "More generally, irrespective of the training data, you want to know if your features are powerful enough to allow you to handle a range of scenarios. Which of the following scenarios can a perceptron using the features above  indeed perfectly classify movies which are profitable according to the given rules:\n",
    "\n",
    "1. Your reviewers are awesome: if the total of their scores is more than 8, then the movie will definitely be profitable, and otherwise it won't be.\n",
    "\n",
    "2. Your reviewers are art critics. Your movie will be profitable if and only if each reviewer gives either a score of 3 or a score of 4.\n",
    "\n",
    "3. Your reviewers have weird but different tastes. Your movie will be profitable if and only if both reviewers agree.\n",
    "\n",
    "\n",
    "\n",
    "**Answer**:\n",
    "1. Can classify.\n",
    "2. Cannot classify.\n",
    "3. Cannot classify. "
   ]
  },
  {
   "cell_type": "markdown",
   "metadata": {},
   "source": [
    "## Part 2: Implementing the Perceptron Classifier"
   ]
  },
  {
   "cell_type": "markdown",
   "metadata": {},
   "source": [
    "### Exercise V\n",
    "We will implement the perceptron classifier. We will implement it as a class similarly to how we implemented the *k*NN-classifier last week. You should implement the two methods `fit` and `predict`. You don't need an `__init__` method. You may include other methods if you find them convenient.\n",
    "\n",
    "The main part of the perceptron classifier is the `fit` method that trains the perceptron.\n",
    "`eta` is the learning rate.\n",
    "One `epoch` is a run through all the training data.\n",
    "We have set the default to one epoch, but you might need more.\n",
    "Remember to add the bias to the data."
   ]
  },
  {
   "cell_type": "code",
   "execution_count": 4,
   "metadata": {},
   "outputs": [],
   "source": [
    "class PyClassifier():\n",
    "    \"\"\"Common methods to all python classifiers --- if any\n",
    "    \n",
    "    Nothing here yet\"\"\"\n",
    "    \n"
   ]
  },
  {
   "cell_type": "code",
   "execution_count": 17,
   "metadata": {},
   "outputs": [],
   "source": [
    "class PyPerClassifier(PyClassifier):\n",
    "    \"\"\"Simple perceptron python classifier\"\"\"\n",
    "    \n",
    "    def fit(self, X_train, y_train, eta=1, epochs=1, bias=-1):\n",
    "        \"\"\"Train the self.weights on the training data with learning\n",
    "        rate eta, running epochs many epochs\"\"\"\n",
    "        self.bias = bias\n",
    "        X_train = [[bias]+list(x) for x in X_train] # Put bias in position 0      \n",
    "        self.dim = dim = len(X_train[0])\n",
    "        self.weights = weights = [0 for _ in range(dim)]\n",
    "        # Initialize all weights to 0. \n",
    "\n",
    "        for e in range(epochs):\n",
    "            for x, t in zip(X_train, y_train):\n",
    "                y = int(self.forward(x)>0)\n",
    "                for i in range(dim):\n",
    "                    weights[i] -= eta * (y - t) * x[i]\n",
    "        \n",
    "    def forward(self, x):\n",
    "        \"\"\"Calculate the score for one item x\"\"\"\n",
    "        return sum([self.weights[i]*x[i] for i in range(self.dim)])       \n",
    "    \n",
    "    def predict_one(self, x):\n",
    "        \"\"\"Predict the class for the item x\"\"\"\n",
    "        x = [self.bias] + list(x)\n",
    "        return int(self.forward(x) > 0)\n",
    "    \n",
    "    def predict(self, X):\n",
    "        \"\"\"Predict the class for the items (in the list) X\"\"\"\n",
    "        return [self.predict_one(z) for z in X]\n"
   ]
  },
  {
   "cell_type": "markdown",
   "metadata": {},
   "source": [
    "## Dataset\n",
    "We will train and test the classifier on the same sythetic dataset as we used for the *k*NN last week."
   ]
  },
  {
   "cell_type": "code",
   "execution_count": 7,
   "metadata": {},
   "outputs": [],
   "source": [
    "from sklearn.datasets import make_blobs\n",
    "import pylab as plt\n",
    "X_np, y_np = make_blobs(n_samples=200, centers=[[0,0],[1,2]], \n",
    "                  n_features=2, random_state=2019)\n",
    "X1 = [(X_np[i,0], X_np[i,1]) for i in range(X_np.shape[0])]\n",
    "t1 = [y_np[i] for i in range(X_np.shape[0])]"
   ]
  },
  {
   "cell_type": "code",
   "execution_count": 8,
   "metadata": {},
   "outputs": [],
   "source": [
    "def show(X, y, marker='.'):\n",
    "    labels = set(y)\n",
    "    cl = {lab : [] for lab in labels}\n",
    "    # cl[lab] shall contain the datapoints labeled lab\n",
    "    for (a, b) in zip(X, y):\n",
    "        cl[b].append(a)\n",
    "    for lab in labels:\n",
    "        plt.plot([a[0] for a in cl[lab]], [a[1] for a in cl[lab]], \n",
    "                 marker, label=\"class {}\".format(lab))\n",
    "    plt.legend()"
   ]
  },
  {
   "cell_type": "code",
   "execution_count": 9,
   "metadata": {},
   "outputs": [
    {
     "data": {
      "image/png": "[encoded data removed]",
      "text/plain": [
       "<Figure size 640x480 with 1 Axes>"
      ]
     },
     "metadata": {},
     "output_type": "display_data"
    }
   ],
   "source": [
    "show(X1, t1)"
   ]
  },
  {
   "cell_type": "code",
   "execution_count": 10,
   "metadata": {},
   "outputs": [],
   "source": [
    "X_np, y_np = make_blobs(n_samples=200, centers=[[0,0],[1,2]], \n",
    "                  n_features=2, random_state=2020)\n",
    "X2 = [(X_np[i,0], X_np[i,1]) for i in range(X_np.shape[0])]\n",
    "t2 = [y_np[i] for i in range(X_np.shape[0])]"
   ]
  },
  {
   "cell_type": "markdown",
   "metadata": {},
   "source": [
    "### Exercise VI\n",
    "Train PyPerClassifier on  X1, t1 and test on X2, t2 as with the *k*NN-classifier. Try various numbers of epochs and see whether it makes a difference.\n",
    "\n",
    "Is X2, t2 linearly separable?\n",
    "\n",
    "How does the results compare to the *k*NN classifier from last week?\n",
    "\n",
    "\n",
    "**Answer:** The classifier achive 81-83.5% accuaracy on the test set, and performce best on 1 and 100 epochs.\n",
    "Compared to kNN: The preceptron performnce is likely lowe than kNN beacuse it can only crate linear decision boundaries, while this dataset appers to require non-linear separation.        "
   ]
  },
  {
   "cell_type": "code",
   "execution_count": 18,
   "metadata": {},
   "outputs": [],
   "source": [
    "def accuracy(y, t):\n",
    "    \"\"\"Calculate the accuracy\"\"\"\n",
    "    equal = len([(p, g) for (p,g) in zip(y, t) if p==g])\n",
    "    return equal / len(t)"
   ]
  },
  {
   "cell_type": "code",
   "execution_count": 19,
   "metadata": {},
   "outputs": [
    {
     "name": "stdout",
     "output_type": "stream",
     "text": [
      "Accuracy after  1 epochs, test:  0.835\n",
      "Accuracy after  2 epochs, test:  0.840\n",
      "Accuracy after  3 epochs, test:  0.815\n",
      "Accuracy after  4 epochs, test:  0.835\n",
      "Accuracy after  5 epochs, test:  0.835\n",
      "Accuracy after  6 epochs, test:  0.815\n",
      "Accuracy after  7 epochs, test:  0.825\n",
      "Accuracy after  8 epochs, test:  0.825\n",
      "Accuracy after  9 epochs, test:  0.825\n",
      "Accuracy after 10 epochs, test:  0.825\n",
      "Accuracy after 11 epochs, test:  0.825\n",
      "Accuracy after 12 epochs, test:  0.820\n",
      "Accuracy after 13 epochs, test:  0.830\n",
      "Accuracy after 14 epochs, test:  0.825\n",
      "Accuracy after 15 epochs, test:  0.820\n",
      "Accuracy after 16 epochs, test:  0.820\n",
      "Accuracy after 17 epochs, test:  0.815\n",
      "Accuracy after 18 epochs, test:  0.825\n",
      "Accuracy after 19 epochs, test:  0.805\n"
     ]
    }
   ],
   "source": [
    "for i in range(1,20):\n",
    "    cl = PyPerClassifier()\n",
    "    cl.fit(X1,t1,eta = 1, epochs = i)\n",
    "    test = accuracy(cl.predict(X2), t2)\n",
    "    print(\"Accuracy after {:2} epochs, test: {:6.3f}\".format(\n",
    "    i, test))"
   ]
  },
  {
   "cell_type": "markdown",
   "metadata": {},
   "source": [
    "### Exercise VII: Termination and Weights\n",
    "\n",
    "- Modify the *fit*-method of the classifier such that training halts when there are no more updates, and it is possible to inspect how many epochs it took.\n",
    "- Run this on the five points film critics dataset. How many epochs does it take to reach completion?\n",
    "- What are the final weights? Can you plot the decision boundary that corresponds to these weights together with the data set?"
   ]
  },
  {
   "cell_type": "code",
   "execution_count": 20,
   "metadata": {},
   "outputs": [],
   "source": [
    "class PyPerClassifier_6(PyClassifier):\n",
    "    \"\"\"Simple perceptron Python classifier\n",
    "    \n",
    "    Stop on convergence.\n",
    "    \"\"\"\n",
    "\n",
    "    def fit(self,X_train, y_train, eta=1, epochs=1, weights=False, bias=-1, trace=True):\n",
    "        \"\"\"Include a parameter for weights which makes it possible to \n",
    "        initialize the weights manually.\n",
    "        \"\"\"\n",
    "        self.bias = bias\n",
    "        X_train = [[bias]+list(x) for x in X_train]\n",
    "        self.dim = dim = len(X_train[0])\n",
    "        if not weights: weights = [0 for _ in range(dim)]\n",
    "        self.weights = weights\n",
    "\n",
    "        e = 0\n",
    "        converged = False\n",
    "        updated = 0\n",
    "        while e < epochs and not converged:\n",
    "            converged = True\n",
    "            e += 1\n",
    "            for x, t in zip(X_train,y_train):\n",
    "                y = int(self.forward(x)>0)\n",
    "                for i in range(dim):\n",
    "                    weights[i] += eta * (t-y) * x[i]\n",
    "                if y != t:\n",
    "                    update +=1\n",
    "                    converged = False\n",
    "            if trace:\n",
    "                if converged:\n",
    "                    print(\"Training completed with convergence\")\n",
    "                else:\n",
    "                    print(\"Training completed without convergence\")\n",
    "                print(\"Number of epochs: {}, number of updates: {}\". format(\n",
    "                    e, updated))\n",
    "                \n",
    "            def forward(self,x):\n",
    "                return sum([self.weights[i]*x[i] for i in range(self.dim)])\n",
    "            \n",
    "            def predict_one(self,x):\n",
    "                x = [self.bias] + list(x)\n",
    "                return int(self.forward(x) > 0)\n",
    "            \n",
    "            def predict(self,X):\n",
    "                return [self.predict_one(z) for z in X]\n",
    "             "
   ]
  }
 ],
 "metadata": {
  "kernelspec": {
   "display_name": "in2110_v25",
   "language": "python",
   "name": "python3"
  },
  "language_info": {
   "codemirror_mode": {
    "name": "ipython",
    "version": 3
   },
   "file_extension": ".py",
   "mimetype": "text/x-python",
   "name": "python",
   "nbconvert_exporter": "python",
   "pygments_lexer": "ipython3",
   "version": "3.9.21"
  }
 },
 "nbformat": 4,
 "nbformat_minor": 4
}
