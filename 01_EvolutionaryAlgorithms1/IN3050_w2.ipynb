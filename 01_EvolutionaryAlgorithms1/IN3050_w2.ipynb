{
 "cells": [
  {
   "cell_type": "markdown",
   "metadata": {},
   "source": [
    "# IN3050/IN4050 - Week 2\n",
    "## Representations"
   ]
  },
  {
   "cell_type": "markdown",
   "metadata": {},
   "source": [
    "### 1. ![Naming_Question](EA_Terms.png)"
   ]
  },
  {
   "cell_type": "markdown",
   "metadata": {},
   "source": [
    "Name the terms shown in the picture above."
   ]
  },
  {
   "cell_type": "code",
   "execution_count": 8,
   "metadata": {},
   "outputs": [],
   "source": [
    "# Add your solution here\n",
    "# A: \n",
    "\n",
    "# B: \n",
    "\n",
    "# C: \n",
    "\n",
    "# D:\n",
    "\n",
    "# E: "
   ]
  },
  {
   "cell_type": "markdown",
   "metadata": {},
   "source": [
    "### 2. Mention some of the most common representations of genomes."
   ]
  },
  {
   "cell_type": "code",
   "execution_count": 9,
   "metadata": {},
   "outputs": [],
   "source": [
    "# Add your solution here\n",
    "Binary, Integer, Real-Valued or Floating-Point, Permutation,Tree"
   ]
  },
  {
   "cell_type": "markdown",
   "metadata": {},
   "source": [
    "### 3. Perform a mutation operation on the representations given below.\n",
    "\n",
    "binary = $[1, 0, 1, 1]$;\n",
    "integer = $[4, 2, 4, 1]$;\n",
    "real_valued = $[2.53, 1.42, 3.14, 1.68]$;\n",
    "permutation = $[3, 4, 1, 2]$"
   ]
  },
  {
   "cell_type": "code",
   "execution_count": 11,
   "metadata": {},
   "outputs": [
    {
     "name": "stdout",
     "output_type": "stream",
     "text": [
      "Binary mutation (Swap): [1, 1, 0, 1]\n",
      "Integer mutation (Insert): [4, 2, 4, 1]\n",
      "Real-valued mutation (Scramble): [2.53, 1.42, 3.14, 1.68]\n",
      "Permutation mutation (Inversion): [3, 4, 1, 2]\n"
     ]
    }
   ],
   "source": [
    "# Add your solution here\n",
    "# Binary mytation - flip a random but\n",
    "import random\n",
    "import numpy as np\n",
    "\n",
    "#Swap mutation (swap two random positions)\n",
    "binary = [1,0,1,1]\n",
    "pos1,pos2 = random.sample(range(len(binary)),2)\n",
    "binary[pos1],binary[pos2] = binary[pos2],binary[pos1]\n",
    "print(f\"Binary mutation (Swap): {binary}\")\n",
    "\n",
    "#Insert mutation (take one element and insert it at random position)\n",
    "interger = [4,2,4,1]\n",
    "from_idx = random.randint(0,len(interger)-1)\n",
    "to_idx = random.randint(0,len(interger)-1)\n",
    "value = interger.pop(from_idx)\n",
    "interger.insert(to_idx,value)\n",
    "print(f\"Integer mutation (Insert): {interger}\")\n",
    "\n",
    "# Scramble mutation (shuffle the list)\n",
    "real_valued = [2.53, 1.42, 3.14, 1.68]\n",
    "start = random.randint(0,len(real_valued)-2)\n",
    "end = random.randint(start+1,len(real_valued)-1)\n",
    "subset = real_valued[start:end]\n",
    "random.shuffle(subset)\n",
    "real_valued[start:end] = subset\n",
    "print(f\"Real-valued mutation (Scramble): {real_valued}\")\n",
    "\n",
    "# Inversion mutation (reverse a random subset)\n",
    "permutation = [3,4,1,2]\n",
    "start = random.randint(0,len(permutation)-2)\n",
    "end = random.randint(start+1,len(permutation)-1)\n",
    "permutation[start:end] = reversed(permutation[start:end])\n",
    "print(f\"Permutation mutation (Inversion): {permutation}\")\n",
    "\n"
   ]
  },
  {
   "cell_type": "markdown",
   "metadata": {},
   "source": [
    "### 4. Given the sequences (2,4,7,1,3,6,8,9,5) and (5,9,8,6,2,4,1,3,7). Implement these algorithms to create a new pair of solutions: "
   ]
  },
  {
   "cell_type": "markdown",
   "metadata": {},
   "source": [
    "#### a. Partially mapped crossover (PMX)"
   ]
  },
  {
   "cell_type": "code",
   "execution_count": 12,
   "metadata": {},
   "outputs": [],
   "source": [
    "# In the PMX code cell\n",
    "import random\n",
    "\n",
    "def pmx_pair(parent1, parent2):\n",
    "    offspring1 = parent1.copy()\n",
    "    offspring2 = parent2.copy()\n",
    "    \n",
    "    size = len(parent1)\n",
    "    point1 = random.randint(0, size-2)\n",
    "    point2 = random.randint(point1+1, size-1)\n",
    "    \n",
    "    mapping1 = {}\n",
    "    mapping2 = {}\n",
    "    \n",
    "    for i in range(point1, point2+1):\n",
    "        val1, val2 = offspring1[i], offspring2[i]\n",
    "        offspring1[i], offspring2[i] = val2, val1\n",
    "        mapping1[val1] = val2\n",
    "        mapping2[val2] = val1\n",
    "    \n",
    "    for i in range(size):\n",
    "        if i < point1 or i > point2:\n",
    "            while offspring1[i] in mapping2:\n",
    "                offspring1[i] = mapping2[offspring1[i]]\n",
    "            while offspring2[i] in mapping1:\n",
    "                offspring2[i] = mapping1[offspring2[i]]\n",
    "    \n",
    "    return offspring1, offspring2\n"
   ]
  },
  {
   "cell_type": "markdown",
   "metadata": {},
   "source": [
    "#### b. Order crossover"
   ]
  },
  {
   "cell_type": "code",
   "execution_count": 13,
   "metadata": {},
   "outputs": [],
   "source": [
    "# In the Order Crossover code cell\n",
    "import random\n",
    "\n",
    "def order_crossover_pair(parent1, parent2):\n",
    "    size = len(parent1)\n",
    "    point1 = random.randint(0, size-2)\n",
    "    point2 = random.randint(point1+1, size-1)\n",
    "    \n",
    "    def order_crossover(p1, p2):\n",
    "        offspring = [-1] * size\n",
    "        offspring[point1:point2+1] = p1[point1:point2+1]\n",
    "        remaining = [x for x in p2 if x not in offspring[point1:point2+1]]\n",
    "        j = 0\n",
    "        for i in range(size):\n",
    "            if offspring[i] == -1:\n",
    "                offspring[i] = remaining[j]\n",
    "                j += 1\n",
    "        return offspring\n",
    "    \n",
    "    return order_crossover(parent1, parent2), order_crossover(parent2, parent1)"
   ]
  },
  {
   "cell_type": "markdown",
   "metadata": {},
   "source": [
    "#### c. Cycle crossover"
   ]
  },
  {
   "cell_type": "code",
   "execution_count": 14,
   "metadata": {},
   "outputs": [],
   "source": [
    "# In the Cycle Crossover code cell\n",
    "import random\n",
    "\n",
    "def cycle_crossover_pair(parent1, parent2):\n",
    "    size = len(parent1)\n",
    "    offspring1 = [-1] * size\n",
    "    offspring2 = [-1] * size\n",
    "    \n",
    "    p2_indices = {val: idx for idx, val in enumerate(parent2)}\n",
    "    \n",
    "    cycles = []\n",
    "    used = set()\n",
    "    \n",
    "    for i in range(size):\n",
    "        if i not in used:\n",
    "            cycle = []\n",
    "            current = i\n",
    "            while current not in used:\n",
    "                used.add(current)\n",
    "                cycle.append(current)\n",
    "                value = parent1[current]\n",
    "                current = p2_indices[value]\n",
    "            if cycle:\n",
    "                cycles.append(cycle)\n",
    "    \n",
    "    for idx, cycle in enumerate(cycles):\n",
    "        for pos in cycle:\n",
    "            if idx % 2 == 0:\n",
    "                offspring1[pos] = parent1[pos]\n",
    "                offspring2[pos] = parent2[pos]\n",
    "            else:\n",
    "                offspring1[pos] = parent2[pos]\n",
    "                offspring2[pos] = parent1[pos]\n",
    "    \n",
    "    return offspring1, offspring2\n"
   ]
  },
  {
   "cell_type": "markdown",
   "metadata": {},
   "source": [
    "#### Test crossovers"
   ]
  },
  {
   "cell_type": "code",
   "execution_count": 15,
   "metadata": {},
   "outputs": [
    {
     "name": "stdout",
     "output_type": "stream",
     "text": [
      "Parents: [2, 4, 7, 1, 3, 6, 8, 9, 5] and [5, 9, 8, 6, 2, 4, 1, 3, 7]\n",
      "Children after PMX: [9, 8, 5, 6, 2, 4, 1, 3, 7] and [7, 2, 4, 1, 3, 6, 8, 9, 5]\n",
      "Children after Order Crossover: [5, 2, 4, 1, 3, 6, 8, 9, 7] and [2, 7, 6, 8, 9, 4, 1, 3, 5]\n",
      "Children after Cycle Crossover: [2, 4, 7, 1, 3, 6, 8, 9, 5] and [5, 9, 8, 6, 2, 4, 1, 3, 7]\n"
     ]
    }
   ],
   "source": [
    "a = [2, 4, 7, 1, 3, 6, 8, 9, 5]\n",
    "b = [5, 9, 8, 6, 2, 4, 1, 3, 7]\n",
    "c, d = pmx_pair(a, b)\n",
    "e, f = order_crossover_pair(a, b)\n",
    "g, h = cycle_crossover_pair(a, b)\n",
    "print(f\"Parents: {a} and {b}\")\n",
    "print(f\"Children after PMX: {c} and {d}\")\n",
    "print(f\"Children after Order Crossover: {e} and {f}\")\n",
    "print(f\"Children after Cycle Crossover: {g} and {h}\")"
   ]
  }
 ],
 "metadata": {
  "kernelspec": {
   "display_name": "Python 3 (ipykernel)",
   "language": "python",
   "name": "python3"
  },
  "language_info": {
   "codemirror_mode": {
    "name": "ipython",
    "version": 3
   },
   "file_extension": ".py",
   "mimetype": "text/x-python",
   "name": "python",
   "nbconvert_exporter": "python",
   "pygments_lexer": "ipython3",
   "version": "3.11.1"
  }
 },
 "nbformat": 4,
 "nbformat_minor": 4
}
