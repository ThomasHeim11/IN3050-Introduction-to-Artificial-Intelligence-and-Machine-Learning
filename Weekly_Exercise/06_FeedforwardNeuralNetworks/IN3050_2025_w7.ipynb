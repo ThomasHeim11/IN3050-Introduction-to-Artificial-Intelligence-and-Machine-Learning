{
 "cells": [
  {
   "cell_type": "markdown",
   "metadata": {},
   "source": [
    "# Week 07: Feed-forward Neural Networks with Backpropagation"
   ]
  },
  {
   "cell_type": "code",
   "execution_count": 317,
   "metadata": {},
   "outputs": [],
   "source": [
    "import numpy as np\n",
    "import matplotlib.pyplot as plt\n",
    "import sklearn"
   ]
  },
  {
   "cell_type": "markdown",
   "metadata": {},
   "source": [
    "# 7.1 Scaling\n",
    "Let's first consider *feature scaling*, which is a useful tool for machine learning\n",
    "\n",
    "To make it simple, we consider it in the context of (enhanced) linear regression. You should keep in mind, however, that it is equally relevant to classification as to regression. Also, feature scaling applies in similar ways to all learners using gradient descent.\n",
    "\n",
    "To keep things even simpler, we will reuse a data set and some of the classes and methods we introduced in the exercise set week 07."
   ]
  },
  {
   "cell_type": "markdown",
   "metadata": {},
   "source": [
    "In the lectures, we mentioned the importance of scaling/normalizing/standardizing the data for the *k*NN algorithm. \n",
    "We will here consider why scaling is important for gradient descent-based algorithms. \n",
    "Let's see the effects of this on a real data example."
   ]
  },
  {
   "cell_type": "markdown",
   "metadata": {},
   "source": [
    "## Dataset\n",
    "\n",
    "First, we'll load a dataset with features that intentionally vary in scale. \"ex1data2.txt\" (https://github.com/nex3z/machine-learning-exercise) is a dataset of housing prices, including the size of the house (in square feet), the number of bedrooms, and the price of the house in dollars.\n",
    "\n",
    "For the record, 100 sqm is about the same as 1100 sq. feet."
   ]
  },
  {
   "cell_type": "code",
   "execution_count": 318,
   "metadata": {},
   "outputs": [],
   "source": [
    "data = np.loadtxt(open(\"ex1data2.txt\", \"r\"), delimiter=\",\")"
   ]
  },
  {
   "cell_type": "markdown",
   "metadata": {},
   "source": [
    "Let us inspect what the data looks like:"
   ]
  },
  {
   "cell_type": "code",
   "execution_count": 319,
   "metadata": {},
   "outputs": [
    {
     "data": {
      "text/plain": [
       "array([[2.10400e+03, 3.00000e+00, 3.99900e+05],\n",
       "       [1.60000e+03, 3.00000e+00, 3.29900e+05],\n",
       "       [2.40000e+03, 3.00000e+00, 3.69000e+05],\n",
       "       [1.41600e+03, 2.00000e+00, 2.32000e+05],\n",
       "       [3.00000e+03, 4.00000e+00, 5.39900e+05],\n",
       "       [1.98500e+03, 4.00000e+00, 2.99900e+05],\n",
       "       [1.53400e+03, 3.00000e+00, 3.14900e+05],\n",
       "       [1.42700e+03, 3.00000e+00, 1.98999e+05],\n",
       "       [1.38000e+03, 3.00000e+00, 2.12000e+05],\n",
       "       [1.49400e+03, 3.00000e+00, 2.42500e+05]])"
      ]
     },
     "execution_count": 319,
     "metadata": {},
     "output_type": "execute_result"
    }
   ],
   "source": [
    "data[:10,:]"
   ]
  },
  {
   "cell_type": "markdown",
   "metadata": {},
   "source": [
    "The goal is to predict the price from the size and the number of bedrooms, so we start by splitting the input data from the target values."
   ]
  },
  {
   "cell_type": "markdown",
   "metadata": {},
   "source": [
    "## Exercise 7.1.1: Linear regression without scaling\n",
    "\n",
    "First, let's try to fit our `NumpyLinReg()` to the data. Experiment with various learning rates and number of epochs. Print the weights (coefficients). Try to predict the price of a 3-bedroom 1500 sq. feet house. What do you see?"
   ]
  },
  {
   "cell_type": "code",
   "execution_count": 320,
   "metadata": {},
   "outputs": [],
   "source": [
    "class NumpyLinReg():\n",
    "\n",
    "    def fit(self, X_train, t_train, lr = 0.1, epochs=10):\n",
    "        \"\"\"X_train is a NxM matrix, N data points, M features\n",
    "        t_train is avector of length N,\n",
    "        the targets values for the training data\n",
    "        lr is the learning rate\n",
    "        \"\"\"\n",
    "        \n",
    "        (N, M) = X_train.shape\n",
    "        X_train = add_bias(X_train)\n",
    "        \n",
    "        self.weights = weights = np.zeros(M + 1)\n",
    "        \n",
    "        for e in range(epochs):\n",
    "            weights -= lr / N *  X_train.T @ (X_train @ weights - t_train)      \n",
    "    \n",
    "    def predict(self, X):\n",
    "        \"\"\"X is a Kxm matrix for some K>=1\n",
    "        predict the value for each point in X\"\"\"\n",
    "        Z = add_bias(X)\n",
    "        return Z @ self.weights"
   ]
  },
  {
   "cell_type": "code",
   "execution_count": 321,
   "metadata": {},
   "outputs": [],
   "source": [
    "def add_bias(X, bias=1):\n",
    "    \"\"\"X is a NxM matrix: N datapoints, M features\n",
    "    Return a Nx(M+1) matrix with added bias in position zero\"\"\"\n",
    "    N = X.shape[0]\n",
    "    biases = np.ones((N, 1))*bias # Make a N*1 matrix of biases\n",
    "    \n",
    "    # Concatenate the column of bias in front of the columns of X.\n",
    "    return np.concatenate((biases, X), axis  = 1) "
   ]
  },
  {
   "cell_type": "code",
   "execution_count": 322,
   "metadata": {},
   "outputs": [],
   "source": [
    "# Vector form solution for mean squared error\n",
    "def mse_2(x,y):\n",
    "    return sum((x - y)**2) / x.shape[0]"
   ]
  },
  {
   "cell_type": "markdown",
   "metadata": {},
   "source": [
    "### Solution"
   ]
  },
  {
   "cell_type": "code",
   "execution_count": 323,
   "metadata": {},
   "outputs": [],
   "source": [
    "X2 = data[:,:2]"
   ]
  },
  {
   "cell_type": "code",
   "execution_count": 324,
   "metadata": {},
   "outputs": [],
   "source": [
    "t2 = data[:, 2]"
   ]
  },
  {
   "cell_type": "code",
   "execution_count": 325,
   "metadata": {},
   "outputs": [],
   "source": [
    "X2b = add_bias(X2)"
   ]
  },
  {
   "cell_type": "markdown",
   "metadata": {},
   "source": [
    "Lets first look at the closed-form solution"
   ]
  },
  {
   "cell_type": "code",
   "execution_count": 326,
   "metadata": {},
   "outputs": [
    {
     "data": {
      "text/plain": [
       "array([89597.9095428 ,   139.21067402, -8738.01911233])"
      ]
     },
     "execution_count": 326,
     "metadata": {},
     "output_type": "execute_result"
    }
   ],
   "source": [
    "## Closed-form solution\n",
    "beta_X2 = np.linalg.inv(X2b.T @ X2b) @ X2b.T @ t2\n",
    "beta_X2"
   ]
  },
  {
   "cell_type": "code",
   "execution_count": 327,
   "metadata": {},
   "outputs": [
    {
     "data": {
      "text/plain": [
       "4086560101.2056556"
      ]
     },
     "execution_count": 327,
     "metadata": {},
     "output_type": "execute_result"
    }
   ],
   "source": [
    "# Root mean square error\n",
    "mse_2(X2b @ beta_X2, t2)"
   ]
  },
  {
   "cell_type": "code",
   "execution_count": 328,
   "metadata": {},
   "outputs": [
    {
     "name": "stdout",
     "output_type": "stream",
     "text": [
      "Root mean square error (in dollars): 63926.21\n"
     ]
    }
   ],
   "source": [
    "mse = mse_2(X2b @ beta_X2, t2)\n",
    "rmse = mse**0.5\n",
    "print(f\"Root mean square error (in dollars): {rmse:.2f}\")"
   ]
  },
  {
   "cell_type": "code",
   "execution_count": 329,
   "metadata": {},
   "outputs": [
    {
     "name": "stdout",
     "output_type": "stream",
     "text": [
      "epochs: 10\terror: 15775225016075564960295344600514157637884490540908544.000\tweights: [-3.17739580e+45 -7.33861634e+48 -1.05993953e+46]\n",
      "epochs: 20\terror: 700001998718394051141275312576258184925997768978598428443029375584258949479845981436052236710969344.000\tweights: [-1.40992183e+92 -3.25640116e+95 -4.70332300e+92]\n",
      "epochs: 50\terror: inf\tweights: [-1.23187371e+232 -2.84517545e+235 -4.10937673e+232]\n",
      "epochs: 100\terror: nan\tweights: [nan nan nan]\n",
      "epochs: 200\terror: nan\tweights: [nan nan nan]\n"
     ]
    },
    {
     "name": "stderr",
     "output_type": "stream",
     "text": [
      "/var/folders/kd/j0t_qpxn5232l1_zzhlcb2wc0000gn/T/ipykernel_88027/2847107012.py:3: RuntimeWarning: overflow encountered in square\n",
      "  return sum((x - y)**2) / x.shape[0]\n",
      "/var/folders/kd/j0t_qpxn5232l1_zzhlcb2wc0000gn/T/ipykernel_88027/2287389178.py:16: RuntimeWarning: overflow encountered in matmul\n",
      "  weights -= lr / N *  X_train.T @ (X_train @ weights - t_train)\n",
      "/var/folders/kd/j0t_qpxn5232l1_zzhlcb2wc0000gn/T/ipykernel_88027/2287389178.py:16: RuntimeWarning: invalid value encountered in subtract\n",
      "  weights -= lr / N *  X_train.T @ (X_train @ weights - t_train)\n"
     ]
    }
   ],
   "source": [
    "# Training the linear regression model\n",
    "for epochs in [10,20,50,100,200]:\n",
    "    reg2 = NumpyLinReg()\n",
    "    reg2.fit(X2,t2,epochs=epochs, lr=0.01)\n",
    "    error = mse_2(reg2.predict(X2), t2) **0.5\n",
    "    print(f\"epochs: {epochs}\\terror: {error:.3f}\\tweights: {reg2.weights}\")\n"
   ]
  },
  {
   "cell_type": "markdown",
   "metadata": {},
   "source": [
    "The learning does not converge. We have to try a smaller learning rate. "
   ]
  },
  {
   "cell_type": "code",
   "execution_count": 330,
   "metadata": {},
   "outputs": [
    {
     "name": "stdout",
     "output_type": "stream",
     "text": [
      "lr: 0.0010000000000000002\terror: nan\tweights: [nan nan nan]\n",
      "lr: 0.00010000000000000002\terror: inf\tweights: [-1.71016074e+265 -3.94984269e+268 -5.70488249e+265]\n",
      "lr: 1.0000000000000003e-05\terror: inf\tweights: [-2.38202924e+164 -5.50161196e+167 -7.94615183e+164]\n",
      "lr: 1.0000000000000004e-06\terror: 27032885521486963755277552571360977513830491714556720335290368.000\tweights: [-5.44487808e+54 -1.25756669e+58 -1.81634327e+55]\n",
      "lr: 1.0000000000000004e-07\terror: 69251.100\tweights: [  0.16694074 165.38256699   0.40482966]\n",
      "lr: 1.0000000000000005e-08\terror: 69322.059\tweights: [8.05078485e-02 1.63924557e+02 2.53357737e-01]\n",
      "lr: 1.0000000000000005e-09\terror: 234193.502\tweights: [2.74979749e-02 6.13083158e+01 9.02091691e-02]\n"
     ]
    },
    {
     "name": "stderr",
     "output_type": "stream",
     "text": [
      "/var/folders/kd/j0t_qpxn5232l1_zzhlcb2wc0000gn/T/ipykernel_88027/2287389178.py:16: RuntimeWarning: overflow encountered in matmul\n",
      "  weights -= lr / N *  X_train.T @ (X_train @ weights - t_train)\n",
      "/var/folders/kd/j0t_qpxn5232l1_zzhlcb2wc0000gn/T/ipykernel_88027/2287389178.py:16: RuntimeWarning: invalid value encountered in subtract\n",
      "  weights -= lr / N *  X_train.T @ (X_train @ weights - t_train)\n",
      "/var/folders/kd/j0t_qpxn5232l1_zzhlcb2wc0000gn/T/ipykernel_88027/2847107012.py:3: RuntimeWarning: overflow encountered in square\n",
      "  return sum((x - y)**2) / x.shape[0]\n"
     ]
    }
   ],
   "source": [
    "for exp in range(3,10):\n",
    "    lr = 0.1**exp\n",
    "    reg2 = NumpyLinReg()\n",
    "    reg2.fit(X2,t2,epochs=100,lr=lr)\n",
    "    error = mse_2(reg2.predict(X2),t2)**0.5\n",
    "    print(f\"lr: {lr}\\terror: {error:.3f}\\tweights: {reg2.weights}\")\n"
   ]
  },
  {
   "cell_type": "markdown",
   "metadata": {},
   "source": [
    "We see we have to set lr=0.1**7 to get convergence"
   ]
  },
  {
   "cell_type": "code",
   "execution_count": 331,
   "metadata": {},
   "outputs": [
    {
     "name": "stdout",
     "output_type": "stream",
     "text": [
      "epochs: 10\terror: 4796241390.775\tweights: [8.09939922e-02 1.65047370e+02 2.54979451e-01]\n",
      "epochs: 20\terror: 4795720689.991\tweights: [9.06724623e-02 1.65382111e+02 2.72059235e-01]\n",
      "epochs: 50\terror: 4795718489.912\tweights: [1.19273297e-01 1.65382707e+02 3.21848901e-01]\n",
      "epochs: 100\terror: 4795714826.707\tweights: [  0.16694074 165.38256699   0.40482966]\n",
      "epochs: 200\terror: 4795707500.409\tweights: [  0.26227519 165.38228601   0.57078977]\n",
      "epochs: 500\terror: 4795685522.403\tweights: [  0.54827499 165.38144309   1.06865874]\n",
      "epochs: 1000\terror: 4795648895.354\tweights: [  1.02492944 165.38003829   1.89840257]\n",
      "epochs: 10000\terror: 4794990240.982\tweights: [  9.60217488 165.35476462  16.82571588]\n",
      "epochs: 100000\terror: 4788469150.076\tweights: [ 95.1113773  165.10335307 165.26025245]\n",
      "epochs: 1000000\terror: 4729364245.808\tweights: [ 924.75641922  162.71718631 1568.64708271]\n"
     ]
    }
   ],
   "source": [
    "for epochs in [10,20,50,100,200,500,1000,10000,100000,1000000]:\n",
    "    reg2 = NumpyLinReg()\n",
    "    reg2.fit(X2,t2,epochs=epochs, lr=0.0000001)\n",
    "    error = mse_2(reg2.predict(X2),t2)\n",
    "    print(f\"epochs: {epochs}\\terror: {error:.3f}\\tweights: {reg2.weights}\")"
   ]
  },
  {
   "cell_type": "code",
   "execution_count": 332,
   "metadata": {},
   "outputs": [
    {
     "name": "stdout",
     "output_type": "stream",
     "text": [
      "The price of a 1500 sq.ft. 3 bedroom: 249706.48\n"
     ]
    }
   ],
   "source": [
    "#Using the result we got form gradient decent:\n",
    "house = np.array([[1500,3]])\n",
    "print(f\"The price of a 1500 sq.ft. 3 bedroom: {reg2.predict(house)[0]:.2f}\")\n"
   ]
  },
  {
   "cell_type": "code",
   "execution_count": 333,
   "metadata": {},
   "outputs": [
    {
     "name": "stdout",
     "output_type": "stream",
     "text": [
      "The price of a 1500 sq.ft. 3 bedroom:  272199.86\n"
     ]
    }
   ],
   "source": [
    "## Using the closed-form solution\n",
    "print(\"The price of a 1500 sq.ft. 3 bedroom: \", \n",
    "     round(beta_X2[0] + 1500 * beta_X2[1] + 3 * beta_X2[2], 2))"
   ]
  },
  {
   "cell_type": "markdown",
   "metadata": {},
   "source": [
    "We see that,in order to not run into problems, we have to use a small traning rate and run many epochs. Even after a long traning time, the results are far form optimal. "
   ]
  },
  {
   "cell_type": "markdown",
   "metadata": {},
   "source": [
    "### Exercise 7.1.2: Implementing scaler\n",
    "\n",
    "The reason for our problems is the large difference in scale between our two input features -- 3 orders of magnitude. A good idea could be to scale the data before you start to experiment. Implement a standard scaler (normalizer) and scale your data. By the way, it is only the input data `X2` which have to be scaled. It is normally not necessary to scale the output values `t2`/`y`."
   ]
  },
  {
   "cell_type": "markdown",
   "metadata": {},
   "source": [
    "### Solution"
   ]
  },
  {
   "cell_type": "code",
   "execution_count": 334,
   "metadata": {},
   "outputs": [],
   "source": [
    "# First, implement the StandardScaler class\n",
    "class StandardScaler:\n",
    "    def fit(self,X):\n",
    "        self.mean = X.mean(axis=0)\n",
    "        self.std = X.std(axis=0)\n",
    "\n",
    "    def transform(self,X):\n",
    "        return (X-self.mean) / self.std    "
   ]
  },
  {
   "cell_type": "code",
   "execution_count": 335,
   "metadata": {},
   "outputs": [],
   "source": [
    "sc = StandardScaler()\n",
    "sc.fit(X2)"
   ]
  },
  {
   "cell_type": "code",
   "execution_count": 336,
   "metadata": {},
   "outputs": [],
   "source": [
    "X2_scaled = sc.transform(X2)"
   ]
  },
  {
   "cell_type": "markdown",
   "metadata": {},
   "source": [
    "### Exercise 7.1.3: Linear regresssion with scaling\n",
    "Try to fit a linear regression to the scaled data. Experiment with various training rates and number of epochs. Print the weights (coefficients). Try to predict the price of a 3-bedroom 1500 sq. feet house. How does this go compared to the experiments without scaling?"
   ]
  },
  {
   "cell_type": "markdown",
   "metadata": {},
   "source": [
    "### Soultion\n"
   ]
  },
  {
   "cell_type": "code",
   "execution_count": 337,
   "metadata": {},
   "outputs": [
    {
     "name": "stdout",
     "output_type": "stream",
     "text": [
      "10\t[221718.10444375  63023.28054385  20978.08040833]\n",
      "20\t[299026.42724313  84131.44536708  15277.25550435]\n",
      "50\t[338658.2492493  103322.82942954   -474.74249522]\n",
      "100\t[340403.61773803 108803.37852266  -5933.9413402 ]\n",
      "200\t[340412.6593343  109440.63822766  -6571.19661218]\n",
      "500\t[340412.65957447 109447.79645983  -6578.35484435]\n",
      "1000\t[340412.65957447 109447.79646964  -6578.35485416]\n",
      "10000\t[340412.65957447 109447.79646964  -6578.35485416]\n",
      "100000\t[340412.65957447 109447.79646964  -6578.35485416]\n"
     ]
    }
   ],
   "source": [
    "for epochs in [10, 20, 50, 100, 200, 500, 1000, 10000, 100000]:\n",
    "    reg2s = NumpyLinReg()\n",
    "    reg2s.fit(X2_scaled,t2,epochs=epochs, lr=0.1)\n",
    "    print(f\"{epochs}\\t{reg2s.weights}\")"
   ]
  },
  {
   "cell_type": "code",
   "execution_count": 338,
   "metadata": {},
   "outputs": [
    {
     "name": "stdout",
     "output_type": "stream",
     "text": [
      "epochs: 10\terror: 140202.799\tweights: [221718.10444375  63023.28054385  20978.08040833]\n",
      "epochs: 20\terror: 79361.837\tweights: [299026.42724313  84131.44536708  15277.25550435]\n",
      "epochs: 50\terror: 64207.003\tweights: [338658.2492493  103322.82942954   -474.74249522]\n",
      "epochs: 100\terror: 63929.067\tweights: [340403.61773803 108803.37852266  -5933.9413402 ]\n",
      "epochs: 200\terror: 63926.209\tweights: [340412.6593343  109440.63822766  -6571.19661218]\n",
      "epochs: 500\terror: 63926.208\tweights: [340412.65957447 109447.79645983  -6578.35484435]\n",
      "epochs: 1000\terror: 63926.208\tweights: [340412.65957447 109447.79646964  -6578.35485416]\n",
      "epochs: 10000\terror: 63926.208\tweights: [340412.65957447 109447.79646964  -6578.35485416]\n",
      "epochs: 100000\terror: 63926.208\tweights: [340412.65957447 109447.79646964  -6578.35485416]\n"
     ]
    }
   ],
   "source": [
    "for epochs in [10, 20, 50, 100, 200, 500, 1000, 10000, 100000]:\n",
    "    reg2s = NumpyLinReg()\n",
    "    reg2s.fit(X2_scaled,t2,epochs=epochs, lr=0.1)\n",
    "    error = mse_2(reg2s.predict(X2_scaled),t2)**0.5\n",
    "    print(f\"epochs: {epochs}\\terror: {error:.3f}\\tweights: {reg2s.weights}\")"
   ]
  },
  {
   "cell_type": "code",
   "execution_count": 339,
   "metadata": {},
   "outputs": [
    {
     "name": "stdout",
     "output_type": "stream",
     "text": [
      "The price of a 1500 sq.ft. 3 bedroom:  272199.86\n"
     ]
    }
   ],
   "source": [
    "house = np.array([1500,3])\n",
    "print(\"The price of a 1500 sq.ft. 3 bedroom: \", \n",
    "      round(reg2s.predict(sc.transform([house]).reshape(1,-1))[0], 2))\n"
   ]
  },
  {
   "cell_type": "code",
   "execution_count": 340,
   "metadata": {},
   "outputs": [
    {
     "name": "stdout",
     "output_type": "stream",
     "text": [
      "The price of a 1500 sq.ft. 3 bedroom:  272199.86\n"
     ]
    }
   ],
   "source": [
    "house = np.array([1500,3])\n",
    "## Using the closed-form solution\n",
    "print(\"The price of a 1500 sq.ft. 3 bedroom: \", \n",
    "     round(beta_X2[0]+1500*beta_X2[1]+3*beta_X2[2],2) )\n"
   ]
  },
  {
   "cell_type": "markdown",
   "metadata": {},
   "source": [
    "We see that we reacher near perfect result already with 500 epochs and lerning rate of 0.1."
   ]
  },
  {
   "cell_type": "markdown",
   "metadata": {},
   "source": [
    "# 7.2 Feed-forward Neural Networks\n",
    "Now, we will try to approach a non-linear dataset with a simple feed-forward neural network with one hidden layer (a Multi-Layer Perceptron)."
   ]
  },
  {
   "cell_type": "code",
   "execution_count": 341,
   "metadata": {},
   "outputs": [
    {
     "data": {
      "text/plain": [
       "array([-5. , -4.9, -4.8, -4.7, -4.6, -4.5, -4.4, -4.3, -4.2, -4.1])"
      ]
     },
     "execution_count": 341,
     "metadata": {},
     "output_type": "execute_result"
    }
   ],
   "source": [
    "# The size of the dataset\n",
    "N = 101\n",
    "# The features of the dataset\n",
    "xx = np.linspace(-5, 5, N)\n",
    "xx[:10]"
   ]
  },
  {
   "cell_type": "markdown",
   "metadata": {},
   "source": [
    "For the y-features, we start with a third degree polynomial. We choose a polynomial which is further from linear."
   ]
  },
  {
   "cell_type": "code",
   "execution_count": 342,
   "metadata": {},
   "outputs": [],
   "source": [
    "polynom = xx**3 - 25*xx + 15"
   ]
  },
  {
   "cell_type": "code",
   "execution_count": 343,
   "metadata": {},
   "outputs": [
    {
     "data": {
      "text/plain": [
       "[<matplotlib.lines.Line2D at 0x15cb515e0>]"
      ]
     },
     "execution_count": 343,
     "metadata": {},
     "output_type": "execute_result"
    },
    {
     "data": {
      "image/png": "[encoded data removed]",
      "text/plain": [
       "<Figure size 640x480 with 1 Axes>"
      ]
     },
     "metadata": {},
     "output_type": "display_data"
    }
   ],
   "source": [
    "plt.plot(xx, polynom)"
   ]
  },
  {
   "cell_type": "markdown",
   "metadata": {},
   "source": [
    "We add some \"noise\" to the smooth curve to generate the dataset. The underlying idea is that the smooth curve represents the function we are looking for, and that this is the best we can hope to learn. A solution which does better  on the training material than the smooth curve is probably overfitted and will not generalize as well to new data as the smooth curve. We are using a normal distribution to generate noise. The numpy function `normal` will generate a vector of `size` many random points around `loc` from a distribution with standard deviation `scale`.\n",
    "\n",
    "Observe the `rng` prefix. This fix the seed such that we get the same dataset each time we run the notebook."
   ]
  },
  {
   "cell_type": "code",
   "execution_count": 344,
   "metadata": {},
   "outputs": [
    {
     "data": {
      "text/plain": [
       "<matplotlib.collections.PathCollection at 0x15ca6a340>"
      ]
     },
     "execution_count": 344,
     "metadata": {},
     "output_type": "execute_result"
    },
    {
     "data": {
      "image/png": "[encoded data removed]",
      "text/plain": [
       "<Figure size 640x480 with 1 Axes>"
      ]
     },
     "metadata": {},
     "output_type": "display_data"
    }
   ],
   "source": [
    "from numpy.random import normal\n",
    "rng = np.random.default_rng(2025)\n",
    "t = polynom + rng.normal(loc=0, scale=5, size=N)\n",
    "plt.scatter(xx, t)"
   ]
  },
  {
   "cell_type": "markdown",
   "metadata": {},
   "source": [
    "Our training data now consist of pairs (xx[i], t[i]), where xx[i] is the datapoint and t[i] the target value. So far, both `xx` and `t` are vectors. Check their shapes, e.g., `xx.shape`. The goal is to make an implementation for linear regression which works with an arbitrary number of input variables and not just one. We will therefore transform `xx` to a matrix of dimension $N\\times m$ where each row represents one datapoint, and $m$ is the number of input variables (or features). Check the shape of `X` after the transform."
   ]
  },
  {
   "cell_type": "code",
   "execution_count": 345,
   "metadata": {},
   "outputs": [
    {
     "data": {
      "text/plain": [
       "(101, 1)"
      ]
     },
     "execution_count": 345,
     "metadata": {},
     "output_type": "execute_result"
    }
   ],
   "source": [
    "X = xx.reshape(-1,1)\n",
    "X.shape"
   ]
  },
  {
   "cell_type": "markdown",
   "metadata": {},
   "source": [
    "## 7.2.1: Linear regression baseline\n",
    "\n",
    "We start with implementing a simple linear regression model, as in week 7. Our aim is to find an approximate function that fits the data generated above."
   ]
  },
  {
   "cell_type": "markdown",
   "metadata": {},
   "source": [
    "Since we are dealing with only one input variable, we start with a simple linear function, $f(x_1) = w_0 + w_1x_1$."
   ]
  },
  {
   "cell_type": "markdown",
   "metadata": {},
   "source": [
    "We wonder if our $f$ fits the data well, and what parameters will give us the best approximation. We will estimate this using the Mean Squared Error:\n",
    "\n",
    "$\\frac{1}{N} \\sum_{j=1}^{N} (t_j - \\sum_{i=0}^{m} w_ix_{ji})^2$"
   ]
  },
  {
   "cell_type": "code",
   "execution_count": 346,
   "metadata": {},
   "outputs": [],
   "source": [
    "# More efficient vector form solution\n",
    "def mse_3(x,y):\n",
    "    return np.mean((x - y)**2)"
   ]
  },
  {
   "cell_type": "markdown",
   "metadata": {},
   "source": [
    "###  Excercise 7.2.1.1: Testing the MSE\n",
    "To test our implementation, take the function $f(x)=0$ as a baseline and calculate the MSE for this $f$. \n",
    "\n",
    "Also calculate the Root Mean Square Error which provides a more natural measure for how good the fit is.\n",
    "\n",
    "By the way, what is the MSE  and RMSE for the theoretical distribution?"
   ]
  },
  {
   "cell_type": "markdown",
   "metadata": {},
   "source": [
    "### Solution"
   ]
  },
  {
   "cell_type": "code",
   "execution_count": 347,
   "metadata": {},
   "outputs": [
    {
     "name": "stdout",
     "output_type": "stream",
     "text": [
      "MSE:  1407.6978192938238\n"
     ]
    }
   ],
   "source": [
    "hypothesis = np.array([0 for x in xx])\n",
    "mse = mse_3(hypothesis, t)\n",
    "print(\"MSE: \", mse)"
   ]
  },
  {
   "cell_type": "code",
   "execution_count": 348,
   "metadata": {},
   "outputs": [
    {
     "name": "stdout",
     "output_type": "stream",
     "text": [
      "RMSE:  37.519299291082504\n"
     ]
    }
   ],
   "source": [
    "print(\"RMSE: \", np.sqrt(mse))"
   ]
  },
  {
   "cell_type": "markdown",
   "metadata": {},
   "source": [
    "For the theoretical distribution:"
   ]
  },
  {
   "cell_type": "code",
   "execution_count": 349,
   "metadata": {},
   "outputs": [
    {
     "name": "stdout",
     "output_type": "stream",
     "text": [
      "MSE:  32.707347208211615\n"
     ]
    }
   ],
   "source": [
    "error = mse_3(t, polynom)\n",
    "print(\"MSE: \", error)"
   ]
  },
  {
   "cell_type": "code",
   "execution_count": 350,
   "metadata": {},
   "outputs": [
    {
     "name": "stdout",
     "output_type": "stream",
     "text": [
      "RMSE : 5.719033765262417\n"
     ]
    }
   ],
   "source": [
    "print(\"RMSE :\", np.sqrt(error))"
   ]
  },
  {
   "cell_type": "markdown",
   "metadata": {},
   "source": [
    "The RMSE is as expected(the std of the noise)."
   ]
  },
  {
   "cell_type": "markdown",
   "metadata": {},
   "source": [
    "### Excercise 7.2.1.2: Training and testing linear regresssion baseline\n",
    "Fit the model to the training data. Report the coefficients. Plot the line together with the observations. Calculate the RMSE. Is the result a better fit than the baseline constant function $f(x)=0$?"
   ]
  },
  {
   "cell_type": "markdown",
   "metadata": {},
   "source": [
    "### Solution"
   ]
  },
  {
   "cell_type": "code",
   "execution_count": 351,
   "metadata": {},
   "outputs": [
    {
     "name": "stdout",
     "output_type": "stream",
     "text": [
      "The coefficients:  [14.76792738 -9.67018792]\n"
     ]
    }
   ],
   "source": [
    "reg = NumpyLinReg()\n",
    "reg.fit(X,t,epochs=100)\n",
    "print(\"The coefficients: \", reg.weights)"
   ]
  },
  {
   "cell_type": "code",
   "execution_count": 352,
   "metadata": {},
   "outputs": [
    {
     "data": {
      "text/plain": [
       "<matplotlib.collections.PathCollection at 0x15d0798b0>"
      ]
     },
     "execution_count": 352,
     "metadata": {},
     "output_type": "execute_result"
    },
    {
     "data": {
      "image/png": "[encoded data removed]",
      "text/plain": [
       "<Figure size 640x480 with 1 Axes>"
      ]
     },
     "metadata": {},
     "output_type": "display_data"
    }
   ],
   "source": [
    "plt.plot(X, reg.weights[0] + reg.weights[1] * X, color=\"r\")\n",
    "plt.plot(X, [0 for i in X], \"g\")\n",
    "\n",
    "# The generated dataset\n",
    "plt.scatter(X, t)"
   ]
  },
  {
   "cell_type": "code",
   "execution_count": 353,
   "metadata": {},
   "outputs": [
    {
     "name": "stdout",
     "output_type": "stream",
     "text": [
      "MSE:  394.73801218459806\n"
     ]
    }
   ],
   "source": [
    "error = mse_3(t,add_bias(X) @ reg.weights)\n",
    "print(\"MSE: \", error)"
   ]
  },
  {
   "cell_type": "code",
   "execution_count": 354,
   "metadata": {},
   "outputs": [
    {
     "name": "stdout",
     "output_type": "stream",
     "text": [
      "RMSE : 19.868014802304685\n"
     ]
    }
   ],
   "source": [
    "print(\"RMSE :\", np.sqrt(error))"
   ]
  },
  {
   "cell_type": "markdown",
   "metadata": {},
   "source": [
    "It has imporved. "
   ]
  },
  {
   "cell_type": "markdown",
   "metadata": {},
   "source": [
    "## 7.2.2 MLP regression"
   ]
  },
  {
   "cell_type": "markdown",
   "metadata": {},
   "source": [
    "Now, a simple feed-forward neural network with one hidden layer: a multi-layered perceptron, MLP."
   ]
  },
  {
   "cell_type": "markdown",
   "metadata": {},
   "source": [
    "### One item, one pass\n",
    "We will add bias, and use bias=-1"
   ]
  },
  {
   "cell_type": "code",
   "execution_count": 355,
   "metadata": {},
   "outputs": [],
   "source": [
    "Xb = add_bias(X, bias=-1)"
   ]
  },
  {
   "cell_type": "code",
   "execution_count": 356,
   "metadata": {},
   "outputs": [
    {
     "data": {
      "text/plain": [
       "array([[-1. , -5. ],\n",
       "       [-1. , -4.9],\n",
       "       [-1. , -4.8],\n",
       "       [-1. , -4.7],\n",
       "       [-1. , -4.6],\n",
       "       [-1. , -4.5],\n",
       "       [-1. , -4.4],\n",
       "       [-1. , -4.3],\n",
       "       [-1. , -4.2],\n",
       "       [-1. , -4.1]])"
      ]
     },
     "execution_count": 356,
     "metadata": {},
     "output_type": "execute_result"
    }
   ],
   "source": [
    "Xb[:10]"
   ]
  },
  {
   "cell_type": "markdown",
   "metadata": {},
   "source": [
    "We will follow one datapoint through the model. First prediction, then update weights (backpropagation).\n",
    "\n",
    "We have chosen observation 25."
   ]
  },
  {
   "cell_type": "code",
   "execution_count": 357,
   "metadata": {},
   "outputs": [
    {
     "data": {
      "text/plain": [
       "array([-1. , -2.5])"
      ]
     },
     "execution_count": 357,
     "metadata": {},
     "output_type": "execute_result"
    }
   ],
   "source": [
    "obs = 25\n",
    "Xb[25]"
   ]
  },
  {
   "cell_type": "code",
   "execution_count": 358,
   "metadata": {},
   "outputs": [
    {
     "data": {
      "text/plain": [
       "57.41642739729151"
      ]
     },
     "execution_count": 358,
     "metadata": {},
     "output_type": "execute_result"
    }
   ],
   "source": [
    "t[25]"
   ]
  },
  {
   "cell_type": "markdown",
   "metadata": {},
   "source": [
    "When you start training you should initialize the weights to random numbers small in absolute value.\n",
    "\n",
    "Let's imagine we started to train the network in this way. We trained the network for small period. The weights in the matrices `V`, `W`, are the weights after this short training period. They are chosen as an example of weight matrices that may occur (early) during training. \n",
    "\n",
    "The current weights in matrix form:"
   ]
  },
  {
   "cell_type": "code",
   "execution_count": 359,
   "metadata": {},
   "outputs": [
    {
     "data": {
      "text/plain": [
       "array([[ 0.4,  0.2,  0.9],\n",
       "       [-1.5,  2. , -2. ]])"
      ]
     },
     "execution_count": 359,
     "metadata": {},
     "output_type": "execute_result"
    }
   ],
   "source": [
    "V = np.array([[0.4, 0.2, 0.9],\n",
    "            [-1.5, 2.0, -2.0]])\n",
    "V"
   ]
  },
  {
   "cell_type": "code",
   "execution_count": 360,
   "metadata": {},
   "outputs": [
    {
     "data": {
      "text/plain": [
       "array([[ 6. ],\n",
       "       [ 3. ],\n",
       "       [-3. ],\n",
       "       [ 4.2]])"
      ]
     },
     "execution_count": 360,
     "metadata": {},
     "output_type": "execute_result"
    }
   ],
   "source": [
    "W = np.array([6, 3.0, -3, 4.2]).reshape(-1,1)\n",
    "W"
   ]
  },
  {
   "cell_type": "markdown",
   "metadata": {},
   "source": [
    "We have to be aware whether we represent our observation as a vector of `shape=(2,)` or a row matrix of `shape=(1,2)`. Either of them can work. We have to be certain regarding the chosen format, however.\n",
    "\n",
    "To use a row matrix will have two advantages:\n",
    "\n",
    "- We reuse the code for batch processing\n",
    "- One of the steps is most easily done by matrices.\n",
    "\n",
    "Hence, we will use row matrices from the beginning."
   ]
  },
  {
   "cell_type": "code",
   "execution_count": 361,
   "metadata": {},
   "outputs": [
    {
     "data": {
      "text/plain": [
       "array([-1. , -2.5])"
      ]
     },
     "execution_count": 361,
     "metadata": {},
     "output_type": "execute_result"
    }
   ],
   "source": [
    "obs = 25 # The observation we will  consider\n",
    "x_obs = Xb[obs]\n",
    "# A vector\n",
    "x_obs"
   ]
  },
  {
   "cell_type": "code",
   "execution_count": 362,
   "metadata": {},
   "outputs": [
    {
     "data": {
      "text/plain": [
       "array([[-1. , -2.5]])"
      ]
     },
     "execution_count": 362,
     "metadata": {},
     "output_type": "execute_result"
    }
   ],
   "source": [
    "X_obs = Xb[obs:obs+1]\n",
    "# A row matrix\n",
    "X_obs"
   ]
  },
  {
   "cell_type": "code",
   "execution_count": 363,
   "metadata": {},
   "outputs": [
    {
     "name": "stdout",
     "output_type": "stream",
     "text": [
      "(2,)\n",
      "(1, 2)\n"
     ]
    }
   ],
   "source": [
    "print(x_obs.shape)\n",
    "print(X_obs.shape)"
   ]
  },
  {
   "cell_type": "markdown",
   "metadata": {},
   "source": [
    "### Forward pass"
   ]
  },
  {
   "cell_type": "markdown",
   "metadata": {},
   "source": [
    "Logistic activation function:"
   ]
  },
  {
   "cell_type": "code",
   "execution_count": 364,
   "metadata": {},
   "outputs": [],
   "source": [
    "def logistic(x):\n",
    "    return 1 / (1 + np.exp(-x))"
   ]
  },
  {
   "cell_type": "markdown",
   "metadata": {},
   "source": [
    "#### Hidden layer"
   ]
  },
  {
   "cell_type": "code",
   "execution_count": 365,
   "metadata": {},
   "outputs": [
    {
     "data": {
      "text/plain": [
       "array([[ 3.35, -5.2 ,  4.1 ]])"
      ]
     },
     "execution_count": 365,
     "metadata": {},
     "output_type": "execute_result"
    }
   ],
   "source": [
    "hidden_in = X_obs @ V\n",
    "hidden_in"
   ]
  },
  {
   "cell_type": "code",
   "execution_count": 366,
   "metadata": {},
   "outputs": [
    {
     "data": {
      "text/plain": [
       "array([[0.96610484, 0.0054863 , 0.9836975 ]])"
      ]
     },
     "execution_count": 366,
     "metadata": {},
     "output_type": "execute_result"
    }
   ],
   "source": [
    "hidden_out = logistic(hidden_in)\n",
    "hidden_out"
   ]
  },
  {
   "cell_type": "markdown",
   "metadata": {},
   "source": [
    "#### Excercise 7.2.2.1: Implementing the final layer"
   ]
  },
  {
   "cell_type": "markdown",
   "metadata": {},
   "source": [
    "We have the hidden layer, now finalize the neural network implementation. \n",
    "You should add biases to the output of the hidden layer, and then create the output layer `final_in=final_out=Y_obs` by applying weights `W` to the hidden layer."
   ]
  },
  {
   "cell_type": "markdown",
   "metadata": {},
   "source": [
    "### Solution"
   ]
  },
  {
   "cell_type": "code",
   "execution_count": 367,
   "metadata": {},
   "outputs": [
    {
     "data": {
      "text/plain": [
       "array([[-1.        ,  0.96610484,  0.0054863 ,  0.9836975 ]])"
      ]
     },
     "execution_count": 367,
     "metadata": {},
     "output_type": "execute_result"
    }
   ],
   "source": [
    "hidden_out = add_bias(hidden_out, bias=-1)\n",
    "hidden_out"
   ]
  },
  {
   "cell_type": "code",
   "execution_count": 368,
   "metadata": {},
   "outputs": [
    {
     "data": {
      "text/plain": [
       "array([[1.01338511]])"
      ]
     },
     "execution_count": 368,
     "metadata": {},
     "output_type": "execute_result"
    }
   ],
   "source": [
    "final_in = hidden_out @ W\n",
    "final_in"
   ]
  },
  {
   "cell_type": "code",
   "execution_count": 369,
   "metadata": {},
   "outputs": [
    {
     "data": {
      "text/plain": [
       "array([[1.01338511]])"
      ]
     },
     "execution_count": 369,
     "metadata": {},
     "output_type": "execute_result"
    }
   ],
   "source": [
    "Y_obs = final_out = final_in\n",
    "final_out"
   ]
  },
  {
   "cell_type": "markdown",
   "metadata": {},
   "source": [
    "#### The current weights"
   ]
  },
  {
   "cell_type": "code",
   "execution_count": 370,
   "metadata": {},
   "outputs": [
    {
     "data": {
      "text/plain": [
       "<matplotlib.legend.Legend at 0x15cfe6760>"
      ]
     },
     "execution_count": 370,
     "metadata": {},
     "output_type": "execute_result"
    },
    {
     "data": {
      "image/png": "[encoded data removed]",
      "text/plain": [
       "<Figure size 640x480 with 1 Axes>"
      ]
     },
     "metadata": {},
     "output_type": "display_data"
    }
   ],
   "source": [
    "# The generated dataset\n",
    "plt.scatter(X, t)\n",
    "plt.plot(X[obs], t[obs], \"rx\", label=\"target\")\n",
    "plt.plot(X[obs], Y_obs, \"gx\", label=\"predicted\")\n",
    "plt.legend()"
   ]
  },
  {
   "cell_type": "markdown",
   "metadata": {},
   "source": [
    "We can also check the predictions for other points."
   ]
  },
  {
   "cell_type": "code",
   "execution_count": 371,
   "metadata": {},
   "outputs": [],
   "source": [
    "Y = add_bias(logistic(Xb @ V), -1) @ W"
   ]
  },
  {
   "cell_type": "code",
   "execution_count": 372,
   "metadata": {},
   "outputs": [
    {
     "data": {
      "text/plain": [
       "<matplotlib.legend.Legend at 0x15d17d3d0>"
      ]
     },
     "execution_count": 372,
     "metadata": {},
     "output_type": "execute_result"
    },
    {
     "data": {
      "image/png": "[encoded data removed]",
      "text/plain": [
       "<Figure size 640x480 with 1 Axes>"
      ]
     },
     "metadata": {},
     "output_type": "display_data"
    }
   ],
   "source": [
    "# The generated dataset\n",
    "plt.scatter(X, t)\n",
    "plt.plot(X[obs], t[obs], \"rx\", label=\"target\")\n",
    "plt.plot(X[obs], Y_obs, \"gx\", label=\"predicted\")\n",
    "plt.plot(X,Y, \"g\", label=\"model\")\n",
    "plt.legend()"
   ]
  },
  {
   "cell_type": "markdown",
   "metadata": {},
   "source": [
    "### Backpropagation pass"
   ]
  },
  {
   "cell_type": "code",
   "execution_count": 373,
   "metadata": {},
   "outputs": [
    {
     "data": {
      "text/plain": [
       "57.41642739729151"
      ]
     },
     "execution_count": 373,
     "metadata": {},
     "output_type": "execute_result"
    }
   ],
   "source": [
    "t[obs]"
   ]
  },
  {
   "cell_type": "markdown",
   "metadata": {},
   "source": [
    "We use 0.5*MSE as our loss"
   ]
  },
  {
   "cell_type": "code",
   "execution_count": 374,
   "metadata": {},
   "outputs": [
    {
     "data": {
      "text/plain": [
       "array([[1590.65158944]])"
      ]
     },
     "execution_count": 374,
     "metadata": {},
     "output_type": "execute_result"
    }
   ],
   "source": [
    "loss = 0.5 * (Y_obs-t[obs])**2\n",
    "loss"
   ]
  },
  {
   "cell_type": "markdown",
   "metadata": {},
   "source": [
    "#### The last layer"
   ]
  },
  {
   "cell_type": "code",
   "execution_count": 375,
   "metadata": {},
   "outputs": [
    {
     "data": {
      "text/plain": [
       "array([[-56.40304228]])"
      ]
     },
     "execution_count": 375,
     "metadata": {},
     "output_type": "execute_result"
    }
   ],
   "source": [
    "final_delta = (Y_obs - t[obs])\n",
    "final_delta"
   ]
  },
  {
   "cell_type": "markdown",
   "metadata": {},
   "source": [
    "We have what is needed for updating the Ws. But we have to wait until we have found the delta terms for the first layer.\n",
    "\n",
    "Observe that `A=hidden_out` has shape (1, 4), a row matrix, while W has shape (4, 1), a column matrix. Hence, we have to reshape A.\n",
    "\n",
    "The form `reshape((-1,1))` will reshape a matrix of shape `(m, n)` to matrix of shape `(m*n, 1)`."
   ]
  },
  {
   "cell_type": "code",
   "execution_count": 376,
   "metadata": {},
   "outputs": [],
   "source": [
    "# W -= lr * final_delta * hidden_out.reshape((-1,1))"
   ]
  },
  {
   "cell_type": "code",
   "execution_count": 377,
   "metadata": {},
   "outputs": [
    {
     "data": {
      "text/plain": [
       "(1, 4)"
      ]
     },
     "execution_count": 377,
     "metadata": {},
     "output_type": "execute_result"
    }
   ],
   "source": [
    "hidden_out.shape"
   ]
  },
  {
   "cell_type": "code",
   "execution_count": 378,
   "metadata": {},
   "outputs": [
    {
     "data": {
      "text/plain": [
       "array([[-1.        ],\n",
       "       [ 0.96610484],\n",
       "       [ 0.0054863 ],\n",
       "       [ 0.9836975 ]])"
      ]
     },
     "execution_count": 378,
     "metadata": {},
     "output_type": "execute_result"
    }
   ],
   "source": [
    "hidden_out.reshape((-1,1))"
   ]
  },
  {
   "cell_type": "markdown",
   "metadata": {},
   "source": [
    "#### The hidden layer"
   ]
  },
  {
   "cell_type": "code",
   "execution_count": 379,
   "metadata": {},
   "outputs": [
    {
     "data": {
      "text/plain": [
       "array([[-338.4182537 , -169.20912685,  169.20912685, -236.89277759]])"
      ]
     },
     "execution_count": 379,
     "metadata": {},
     "output_type": "execute_result"
    }
   ],
   "source": [
    "hidden_out_delta = final_delta[0,0] * W.T\n",
    "hidden_out_delta"
   ]
  },
  {
   "cell_type": "code",
   "execution_count": 380,
   "metadata": {},
   "outputs": [
    {
     "data": {
      "text/plain": [
       "array([[-338.4182537 , -169.20912685,  169.20912685, -236.89277759]])"
      ]
     },
     "execution_count": 380,
     "metadata": {},
     "output_type": "execute_result"
    }
   ],
   "source": [
    "hidden_out_delta = final_delta @ W.T\n",
    "hidden_out_delta"
   ]
  },
  {
   "cell_type": "markdown",
   "metadata": {},
   "source": [
    "We remove the part which corresponds to the bias in the hidden layer when we are going backwards through the hidden layer. It is important to remember where you put the bias - first or last in the vectors."
   ]
  },
  {
   "cell_type": "code",
   "execution_count": 381,
   "metadata": {},
   "outputs": [
    {
     "data": {
      "text/plain": [
       "array([[-5.54096979,  0.92323874, -3.79898501]])"
      ]
     },
     "execution_count": 381,
     "metadata": {},
     "output_type": "execute_result"
    }
   ],
   "source": [
    "a = hidden_out[:, 1:]\n",
    "hidden_in_delta = a * (1 - a) * hidden_out_delta[:, 1:]\n",
    "hidden_in_delta"
   ]
  },
  {
   "cell_type": "markdown",
   "metadata": {},
   "source": [
    "#### Excercise 7.2.2.2: Updating MLP weights\n",
    "Now, that you have all the deltas, do one step of updating the neural network weights."
   ]
  },
  {
   "cell_type": "markdown",
   "metadata": {},
   "source": [
    "### Solution"
   ]
  },
  {
   "cell_type": "markdown",
   "metadata": {},
   "source": [
    "First, we update the current weigts"
   ]
  },
  {
   "cell_type": "code",
   "execution_count": 382,
   "metadata": {},
   "outputs": [
    {
     "data": {
      "text/plain": [
       "array([[ 0.4,  0.2,  0.9],\n",
       "       [-1.5,  2. , -2. ]])"
      ]
     },
     "execution_count": 382,
     "metadata": {},
     "output_type": "execute_result"
    }
   ],
   "source": [
    "V = np.array(([0.4,0.2,0.9],\n",
    "              [-1.5,2.0,-2.0]))\n",
    "V"
   ]
  },
  {
   "cell_type": "code",
   "execution_count": 383,
   "metadata": {},
   "outputs": [
    {
     "data": {
      "text/plain": [
       "array([[ 6. ],\n",
       "       [ 3. ],\n",
       "       [-3. ],\n",
       "       [ 4.2]])"
      ]
     },
     "execution_count": 383,
     "metadata": {},
     "output_type": "execute_result"
    }
   ],
   "source": [
    "W = np.array([6, 3.0, -3, 4.2]).reshape(-1,1)\n",
    "W"
   ]
  },
  {
   "cell_type": "code",
   "execution_count": 384,
   "metadata": {},
   "outputs": [],
   "source": [
    "#Learning rate\n",
    "lr = 0.01"
   ]
  },
  {
   "cell_type": "code",
   "execution_count": 385,
   "metadata": {},
   "outputs": [
    {
     "data": {
      "text/plain": [
       "array([[ 5.43596958],\n",
       "       [ 3.54491252],\n",
       "       [-2.99690556],\n",
       "       [ 4.75483532]])"
      ]
     },
     "execution_count": 385,
     "metadata": {},
     "output_type": "execute_result"
    }
   ],
   "source": [
    "# Update weights\n",
    "W -= lr * final_delta * hidden_out.reshape((-1,1))\n",
    "W"
   ]
  },
  {
   "cell_type": "code",
   "execution_count": 386,
   "metadata": {},
   "outputs": [
    {
     "data": {
      "text/plain": [
       "array([[ 0.3445903 ,  0.20923239,  0.86201015],\n",
       "       [-1.63852424,  2.02308097, -2.09497463]])"
      ]
     },
     "execution_count": 386,
     "metadata": {},
     "output_type": "execute_result"
    }
   ],
   "source": [
    "V -= lr * X_obs.T @ hidden_in_delta\n",
    "V"
   ]
  },
  {
   "cell_type": "markdown",
   "metadata": {},
   "source": [
    "### Stochastic gradient descent"
   ]
  },
  {
   "cell_type": "markdown",
   "metadata": {},
   "source": [
    "We gather the code from the forward pass and backprogation pass for one observation in one cell. To see that we have copied everything correctly, we reset the weights, run everything, and see that the updated weights are the same."
   ]
  },
  {
   "cell_type": "code",
   "execution_count": 387,
   "metadata": {},
   "outputs": [
    {
     "name": "stdout",
     "output_type": "stream",
     "text": [
      "W: \n",
      "[[ 5.43596958]\n",
      " [ 3.54491252]\n",
      " [-2.99690556]\n",
      " [ 4.75483532]]\n",
      "\n",
      "V: \n",
      "[[ 0.3445903   0.20923239  0.86201015]\n",
      " [-1.63852424  2.02308097 -2.09497463]]\n"
     ]
    }
   ],
   "source": [
    "V = np.array([[0.4, 0.2, 0.9],\n",
    "            [-1.5, 2.0, -2.0]])\n",
    "W = np.array([6, 3.0, -3, 4.2]).reshape(-1,1)\n",
    "\n",
    "lr = 0.01\n",
    "obs = 25\n",
    "X_obs = Xb[obs:obs+1]\n",
    "\n",
    "hidden_in = X_obs @ V\n",
    "\n",
    "hidden_out = logistic(hidden_in)\n",
    "\n",
    "hidden_out = add_bias(hidden_out, -1)\n",
    "\n",
    "final_in = hidden_out @ W\n",
    "\n",
    "Y_obs = final_out = final_in\n",
    "\n",
    "\n",
    "### Backprop\n",
    "\n",
    "t[obs]\n",
    "\n",
    "final_delta = (Y_obs - t[obs])\n",
    "\n",
    "# hidden_out_delta = final_delta @ W.T\n",
    "\n",
    "hidden_out_delta = final_delta[0,0] * W.T\n",
    "\n",
    "a = hidden_out[:,1:]\n",
    "\n",
    "hidden_in_delta = a * (1 -a) * hidden_out_delta[:,1:]\n",
    "\n",
    "W -= lr * final_delta * hidden_out.reshape((-1,1))\n",
    "print(\"W: \")\n",
    "print(W)\n",
    "\n",
    "V -= lr * X_obs.T @ hidden_in_delta\n",
    "print(\"\\nV: \")\n",
    "print(V)"
   ]
  },
  {
   "cell_type": "markdown",
   "metadata": {},
   "source": [
    "### Excercise 7.2.2.3\n",
    "Turn it into *stochastic gradient descent* by running the code repeatedly. For each iteration, choose a random point (instance) from the dataset. \n",
    "\n",
    "Choose a smaller learning rate than in the step-by-step example. Try to run it with various numbers of iterations and various learning rates. Plot the results. Is it better than the linear approximation?"
   ]
  },
  {
   "cell_type": "code",
   "execution_count": 388,
   "metadata": {},
   "outputs": [],
   "source": [
    "lr = 0.0001\n",
    "iterations = 1000000\n",
    "\n",
    "V = np.array([[0.4, 0.2, 0.9],\n",
    "            [-1.5, 2.0, -2.0]])\n",
    "W = np.array([6, 3.0, -3, 4.2]).reshape(-1,1)\n",
    "\n",
    "for i in  range(iterations):\n",
    "    obs = rng.integers(101, size=1)[0]\n",
    "\n",
    "    X_obs = Xb[obs:obs+1]\n",
    "\n",
    "    hidden_in = X_obs @ V\n",
    "\n",
    "    hidden_out = logistic(hidden_in)\n",
    "\n",
    "    hidden_out = add_bias(hidden_out, -1)\n",
    "\n",
    "    final_in = hidden_out @ W\n",
    "\n",
    "    Y_obs = final_out = final_in\n",
    "\n",
    "\n",
    "    ### Backprop\n",
    "\n",
    "    t[obs]\n",
    "\n",
    "    final_delta = (Y_obs - t[obs])\n",
    "\n",
    "    # hidden_out_delta = final_delta @ W.T\n",
    "\n",
    "    hidden_out_delta = final_delta[0,0] * W.T\n",
    "\n",
    "    a = hidden_out[:,1:]\n",
    "\n",
    "    hidden_in_delta = a * (1 -a) * hidden_out_delta[:,1:]\n",
    "\n",
    "    W -= lr * final_delta * hidden_out.reshape((-1,1))\n",
    "\n",
    "    V -= lr * X_obs.T @ hidden_in_delta"
   ]
  },
  {
   "cell_type": "markdown",
   "metadata": {},
   "source": [
    "Plotting the result and evalueting: "
   ]
  },
  {
   "cell_type": "code",
   "execution_count": 389,
   "metadata": {},
   "outputs": [
    {
     "data": {
      "text/plain": [
       "<matplotlib.legend.Legend at 0x15d312790>"
      ]
     },
     "execution_count": 389,
     "metadata": {},
     "output_type": "execute_result"
    },
    {
     "data": {
      "image/png": "[encoded data removed]",
      "text/plain": [
       "<Figure size 640x480 with 1 Axes>"
      ]
     },
     "metadata": {},
     "output_type": "display_data"
    }
   ],
   "source": [
    "Y = add_bias(logistic(Xb @ V), -1) @ W\n",
    "\n",
    "plt.scatter(X, t)\n",
    "plt.plot(X[obs], t[obs], \"rx\", label=\"target\")\n",
    "plt.plot(X[obs], Y_obs, \"gx\", label=\"predicted\")\n",
    "plt.plot(X,Y, \"g\", label=\"model\")\n",
    "plt.legend()"
   ]
  },
  {
   "cell_type": "code",
   "execution_count": 390,
   "metadata": {},
   "outputs": [
    {
     "name": "stdout",
     "output_type": "stream",
     "text": [
      "MSE:  141.42640531209432\n",
      "RMSE : 11.892283435576799\n"
     ]
    }
   ],
   "source": [
    "error = mse_2(t,Y[:,0])\n",
    "print(\"MSE: \", error)\n",
    "print(\"RMSE :\", np.sqrt(error))"
   ]
  },
  {
   "cell_type": "markdown",
   "metadata": {},
   "source": [
    "### Comment\n",
    "We see that the approximation is better than the linear approximation, but it is not quite there. We also see that the predictions look suspiciously like a logistic cure. Is this and inductive bias form the model?"
   ]
  },
  {
   "cell_type": "markdown",
   "metadata": {},
   "source": [
    "## The number of hidden nodes"
   ]
  },
  {
   "cell_type": "markdown",
   "metadata": {},
   "source": [
    "### Excercise 7.2.2.4: Batch processing"
   ]
  },
  {
   "cell_type": "markdown",
   "metadata": {},
   "source": [
    "We are interested whether we can get a better approximation with a larger number of nodes in the hidden layer. \n",
    "Implement a `MLPBinaryLinReg()` class using batch processing and having the number of hidden nodes as a parameter.\n",
    "The class should have `fit()`, `forward()` and `predict()` methods."
   ]
  },
  {
   "cell_type": "code",
   "execution_count": 391,
   "metadata": {},
   "outputs": [],
   "source": [
    "def logistic(x):\n",
    "    return 1 / (1 + np.exp(-x))\n",
    "\n",
    "def logistic_diff(y):\n",
    "    return y * (1 - y)"
   ]
  },
  {
   "cell_type": "code",
   "execution_count": 394,
   "metadata": {},
   "outputs": [],
   "source": [
    "class MLPBinaryLinReg():\n",
    "    \"\"\"A multi-layer neural network with one hidden layer\"\"\"\n",
    "    \n",
    "    def __init__(self, bias=-1, dim_hidden = 6):\n",
    "        \"\"\"Intialize the hyperparameters\"\"\"\n",
    "        self.bias = bias\n",
    "        self.dim_hidden = dim_hidden\n",
    "        self.activ = logistic\n",
    "        self.activ_diff = logistic_diff\n",
    "        \n",
    "    def fit(self, X_train, t_train, lr=0.001, epochs = 100):\n",
    "        \"\"\"Initialize the weights. Train *epochs* many epochs.\n",
    "        \n",
    "        X_train is a NxM matrix, N data points, M features\n",
    "        t_train is a vector of length N of targets values for the training data, \n",
    "        where the values are 0 or 1.\n",
    "        \"\"\"\n",
    "        self.lr = lr\n",
    "        \n",
    "        T_train = t_train.reshape(-1,1)\n",
    "            \n",
    "        dim_in = X_train.shape[1] \n",
    "        dim_out = T_train.shape[1]\n",
    "        \n",
    "        # Initialize the weights\n",
    "        self.weights1 = (np.random.rand(\n",
    "            dim_in + 1, \n",
    "            self.dim_hidden) * 2 - 1) / np.sqrt(dim_in)\n",
    "        self.weights2 = (np.random.rand(\n",
    "            self.dim_hidden+1, \n",
    "            dim_out) * 2 - 1) / np.sqrt(self.dim_hidden)\n",
    "        X_train_bias = add_bias(X_train, self.bias)\n",
    "        \n",
    "        for e in range(epochs):\n",
    "            # One epoch\n",
    "            # Forward step          \n",
    "            hidden_outs, outputs = self.forward(X_train_bias)\n",
    "            # The delta terms on the output node\n",
    "            out_deltas = (outputs - T_train)\n",
    "            # The delta terms at the output of the hidden layer\n",
    "            hiddenout_diffs = out_deltas @ self.weights2.T\n",
    "            # The deltas at the input to the hidden layer\n",
    "            hiddenact_deltas = (hiddenout_diffs[:, 1:] * \n",
    "                                self.activ_diff(hidden_outs[:, 1:]))  \n",
    "            # Update the weights\n",
    "            self.weights2 -= self.lr * hidden_outs.T @ out_deltas\n",
    "            self.weights1 -= self.lr * X_train_bias.T @ hiddenact_deltas \n",
    "\n",
    "            \n",
    "    def forward(self, X):\n",
    "        \"\"\"Perform one forward step. \n",
    "        Return a pair consisting of the outputs of the hidden_layer\n",
    "        and the outputs on the final layer\"\"\"\n",
    "        hidden_activations = self.activ(X @ self.weights1)\n",
    "        hidden_outs = add_bias(hidden_activations, self.bias)\n",
    "        outputs = hidden_outs @ self.weights2\n",
    "        return hidden_outs, outputs\n",
    "    \n",
    "    def predict(self, X):\n",
    "        \"\"\"Predict the class for the members of X\"\"\"\n",
    "        Z = add_bias(X, self.bias)\n",
    "        forw = self.forward(Z)[1]\n",
    "        return forw[:, 0]        "
   ]
  },
  {
   "cell_type": "markdown",
   "metadata": {},
   "source": [
    "#### 3 hidden nodes\n",
    "\n",
    "First, we try to train with three hidden nodes, and compare to the stochastic gradient descent algorithm."
   ]
  },
  {
   "cell_type": "code",
   "execution_count": 395,
   "metadata": {},
   "outputs": [
    {
     "data": {
      "text/plain": [
       "[<matplotlib.lines.Line2D at 0x15d409dc0>]"
      ]
     },
     "execution_count": 395,
     "metadata": {},
     "output_type": "execute_result"
    },
    {
     "data": {
      "image/png": "[encoded data removed]",
      "text/plain": [
       "<Figure size 640x480 with 1 Axes>"
      ]
     },
     "metadata": {},
     "output_type": "display_data"
    }
   ],
   "source": [
    "regr = MLPBinaryLinReg(bias=-1, dim_hidden=3)\n",
    "regr.fit(X, t, epochs=50000, lr=0.001)\n",
    "Y=regr.predict(X)\n",
    "\n",
    "plt.scatter(X, t)\n",
    "plt.plot(X, Y, \"g\")"
   ]
  },
  {
   "cell_type": "code",
   "execution_count": 396,
   "metadata": {},
   "outputs": [
    {
     "name": "stdout",
     "output_type": "stream",
     "text": [
      "MSE:  139.36520544134484\n"
     ]
    }
   ],
   "source": [
    "error = mse_2(t, Y)\n",
    "print(\"MSE: \", error)"
   ]
  },
  {
   "cell_type": "code",
   "execution_count": 397,
   "metadata": {},
   "outputs": [
    {
     "name": "stdout",
     "output_type": "stream",
     "text": [
      "RMSE : 11.805304123204317\n"
     ]
    }
   ],
   "source": [
    "print(\"RMSE :\", np.sqrt(error))"
   ]
  },
  {
   "cell_type": "markdown",
   "metadata": {},
   "source": [
    "### 12 hidden nodes"
   ]
  },
  {
   "cell_type": "code",
   "execution_count": 398,
   "metadata": {},
   "outputs": [
    {
     "data": {
      "text/plain": [
       "[<matplotlib.lines.Line2D at 0x15d481220>]"
      ]
     },
     "execution_count": 398,
     "metadata": {},
     "output_type": "execute_result"
    },
    {
     "data": {
      "image/png": "[encoded data removed]",
      "text/plain": [
       "<Figure size 640x480 with 1 Axes>"
      ]
     },
     "metadata": {},
     "output_type": "display_data"
    }
   ],
   "source": [
    "regr = MLPBinaryLinReg(bias=-1, dim_hidden=12)\n",
    "regr.fit(X, t, epochs=50000, lr=0.0001)\n",
    "Y=regr.predict(X)\n",
    "\n",
    "plt.scatter(X, t)\n",
    "plt.plot(X, Y, \"g\")"
   ]
  },
  {
   "cell_type": "code",
   "execution_count": 399,
   "metadata": {},
   "outputs": [
    {
     "name": "stdout",
     "output_type": "stream",
     "text": [
      "MSE:  139.01649808770475\n"
     ]
    }
   ],
   "source": [
    "error = mse_2(t, Y)\n",
    "print(\"MSE: \", error)"
   ]
  },
  {
   "cell_type": "code",
   "execution_count": 400,
   "metadata": {},
   "outputs": [
    {
     "name": "stdout",
     "output_type": "stream",
     "text": [
      "RMSE : 11.790525776559107\n"
     ]
    }
   ],
   "source": [
    "print(\"RMSE :\", np.sqrt(error))"
   ]
  },
  {
   "cell_type": "code",
   "execution_count": 401,
   "metadata": {},
   "outputs": [
    {
     "name": "stdout",
     "output_type": "stream",
     "text": [
      "CPU times: user 15.8 s, sys: 123 ms, total: 15.9 s\n",
      "Wall time: 16.1 s\n"
     ]
    },
    {
     "data": {
      "text/plain": [
       "[<matplotlib.lines.Line2D at 0x15d4e8f70>]"
      ]
     },
     "execution_count": 401,
     "metadata": {},
     "output_type": "execute_result"
    },
    {
     "data": {
      "image/png": "[encoded data removed]",
      "text/plain": [
       "<Figure size 640x480 with 1 Axes>"
      ]
     },
     "metadata": {},
     "output_type": "display_data"
    }
   ],
   "source": [
    "%%time\n",
    "\n",
    "regr = MLPBinaryLinReg(bias=-1, dim_hidden=12)\n",
    "regr.fit(X, t, epochs=500000, lr=0.0001)\n",
    "Y=regr.predict(X)\n",
    "\n",
    "plt.scatter(X, t)\n",
    "plt.plot(X, Y, \"g\")"
   ]
  },
  {
   "cell_type": "code",
   "execution_count": 402,
   "metadata": {},
   "outputs": [
    {
     "name": "stdout",
     "output_type": "stream",
     "text": [
      "MSE:  60.92769234031527\n"
     ]
    }
   ],
   "source": [
    "error = mse_2(t, Y)\n",
    "print(\"MSE: \", error)"
   ]
  },
  {
   "cell_type": "code",
   "execution_count": 403,
   "metadata": {},
   "outputs": [
    {
     "name": "stdout",
     "output_type": "stream",
     "text": [
      "RMSE : 7.805619279744258\n"
     ]
    }
   ],
   "source": [
    "print(\"RMSE :\", np.sqrt(error))"
   ]
  },
  {
   "cell_type": "code",
   "execution_count": 404,
   "metadata": {},
   "outputs": [
    {
     "name": "stdout",
     "output_type": "stream",
     "text": [
      "CPU times: user 1.62 s, sys: 27.5 ms, total: 1.64 s\n",
      "Wall time: 1.77 s\n"
     ]
    },
    {
     "data": {
      "text/plain": [
       "[<matplotlib.lines.Line2D at 0x15d5671c0>]"
      ]
     },
     "execution_count": 404,
     "metadata": {},
     "output_type": "execute_result"
    },
    {
     "data": {
      "image/png": "[encoded data removed]",
      "text/plain": [
       "<Figure size 640x480 with 1 Axes>"
      ]
     },
     "metadata": {},
     "output_type": "display_data"
    }
   ],
   "source": [
    "%%time\n",
    "\n",
    "regr = MLPBinaryLinReg(bias=-1, dim_hidden=12)\n",
    "regr.fit(X, t, epochs=50000, lr=0.001)\n",
    "Y=regr.predict(X)\n",
    "\n",
    "plt.scatter(X, t)\n",
    "plt.plot(X, Y, \"g\")"
   ]
  },
  {
   "cell_type": "code",
   "execution_count": 405,
   "metadata": {},
   "outputs": [
    {
     "name": "stdout",
     "output_type": "stream",
     "text": [
      "MSE:  66.4960725889539\n"
     ]
    }
   ],
   "source": [
    "error = mse_2(t, Y)\n",
    "print(\"MSE: \", error)"
   ]
  },
  {
   "cell_type": "code",
   "execution_count": 406,
   "metadata": {},
   "outputs": [
    {
     "name": "stdout",
     "output_type": "stream",
     "text": [
      "RMSE : 8.154512406573057\n"
     ]
    }
   ],
   "source": [
    "print(\"RMSE :\", np.sqrt(error))"
   ]
  },
  {
   "cell_type": "code",
   "execution_count": 407,
   "metadata": {},
   "outputs": [
    {
     "name": "stdout",
     "output_type": "stream",
     "text": [
      "CPU times: user 15.8 s, sys: 125 ms, total: 16 s\n",
      "Wall time: 16.2 s\n"
     ]
    },
    {
     "data": {
      "text/plain": [
       "[<matplotlib.lines.Line2D at 0x16cbc89a0>]"
      ]
     },
     "execution_count": 407,
     "metadata": {},
     "output_type": "execute_result"
    },
    {
     "data": {
      "image/png": "[encoded data removed]",
      "text/plain": [
       "<Figure size 640x480 with 1 Axes>"
      ]
     },
     "metadata": {},
     "output_type": "display_data"
    }
   ],
   "source": [
    "%%time\n",
    "\n",
    "regr = MLPBinaryLinReg(bias=-1, dim_hidden=12)\n",
    "regr.fit(X, t, epochs=500000, lr=0.001)\n",
    "Y=regr.predict(X)\n",
    "\n",
    "plt.scatter(X, t)\n",
    "plt.plot(X, Y, \"g\")"
   ]
  },
  {
   "cell_type": "code",
   "execution_count": 408,
   "metadata": {},
   "outputs": [
    {
     "name": "stdout",
     "output_type": "stream",
     "text": [
      "MSE:  102.23396829809622\n"
     ]
    }
   ],
   "source": [
    "error = mse_2(t, Y)\n",
    "print(\"MSE: \", error)"
   ]
  },
  {
   "cell_type": "code",
   "execution_count": 409,
   "metadata": {},
   "outputs": [
    {
     "name": "stdout",
     "output_type": "stream",
     "text": [
      "RMSE : 10.111081460362993\n"
     ]
    }
   ],
   "source": [
    "print(\"RMSE :\", np.sqrt(error))"
   ]
  },
  {
   "cell_type": "markdown",
   "metadata": {},
   "source": [
    "What happens if we increase the number of hidden nodes further?"
   ]
  },
  {
   "cell_type": "markdown",
   "metadata": {},
   "source": [
    "### 100 hidden nodes"
   ]
  },
  {
   "cell_type": "code",
   "execution_count": 410,
   "metadata": {},
   "outputs": [
    {
     "name": "stdout",
     "output_type": "stream",
     "text": [
      "CPU times: user 1min 34s, sys: 1.36 s, total: 1min 36s\n",
      "Wall time: 13.6 s\n"
     ]
    },
    {
     "data": {
      "text/plain": [
       "[<matplotlib.lines.Line2D at 0x16cc39be0>]"
      ]
     },
     "execution_count": 410,
     "metadata": {},
     "output_type": "execute_result"
    },
    {
     "data": {
      "image/png": "[encoded data removed]",
      "text/plain": [
       "<Figure size 640x480 with 1 Axes>"
      ]
     },
     "metadata": {},
     "output_type": "display_data"
    }
   ],
   "source": [
    "%%time\n",
    "\n",
    "regr = MLPBinaryLinReg(bias=-1, dim_hidden=100)\n",
    "regr.fit(X, t, epochs=50000, lr=0.001)\n",
    "Y=regr.predict(X)\n",
    "\n",
    "plt.scatter(X, t)\n",
    "plt.plot(X, Y, \"g\")"
   ]
  },
  {
   "cell_type": "code",
   "execution_count": 411,
   "metadata": {},
   "outputs": [
    {
     "name": "stdout",
     "output_type": "stream",
     "text": [
      "MSE:  21.34066551418423\n"
     ]
    }
   ],
   "source": [
    "error = mse_2(t, Y)\n",
    "print(\"MSE: \", error)"
   ]
  },
  {
   "cell_type": "code",
   "execution_count": 412,
   "metadata": {},
   "outputs": [
    {
     "name": "stdout",
     "output_type": "stream",
     "text": [
      "RMSE : 4.619595817188364\n"
     ]
    }
   ],
   "source": [
    "print(\"RMSE :\", np.sqrt(error))"
   ]
  },
  {
   "cell_type": "markdown",
   "metadata": {},
   "source": [
    "**Note**: We see the the curve are following each data point close, and we have maby entered the land of overfitting. "
   ]
  },
  {
   "cell_type": "markdown",
   "metadata": {},
   "source": [
    "NB: all the experiments with MLP + linear regression are easily transformed into MLP + classification."
   ]
  }
 ],
 "metadata": {
  "kernelspec": {
   "display_name": "in2110_v25",
   "language": "python",
   "name": "python3"
  },
  "language_info": {
   "codemirror_mode": {
    "name": "ipython",
    "version": 3
   },
   "file_extension": ".py",
   "mimetype": "text/x-python",
   "name": "python",
   "nbconvert_exporter": "python",
   "pygments_lexer": "ipython3",
   "version": "3.9.21"
  }
 },
 "nbformat": 4,
 "nbformat_minor": 4
}
